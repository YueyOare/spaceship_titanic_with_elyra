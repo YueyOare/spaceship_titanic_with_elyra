{
 "cells": [
  {
   "cell_type": "code",
   "execution_count": 1,
   "id": "9dd35147-c273-49b3-afe9-9a25f66036b6",
   "metadata": {
    "ExecuteTime": {
     "end_time": "2023-12-09T07:22:10.071825300Z",
     "start_time": "2023-12-09T07:22:09.956452800Z"
    },
    "execution": {
     "iopub.execute_input": "2023-12-15T17:34:09.655220Z",
     "iopub.status.busy": "2023-12-15T17:34:09.654219Z",
     "iopub.status.idle": "2023-12-15T17:34:13.122361Z",
     "shell.execute_reply": "2023-12-15T17:34:13.122361Z"
    },
    "papermill": {
     "duration": 3.508182,
     "end_time": "2023-12-15T17:34:13.124401",
     "exception": false,
     "start_time": "2023-12-15T17:34:09.616219",
     "status": "completed"
    },
    "tags": []
   },
   "outputs": [],
   "source": [
    "import numpy as np # linear algebra\n",
    "import pandas as pd# data processing, CSV file I/O (e.g. pd.read_csv)\n",
    "import seaborn as sns\n",
    "import matplotlib.pyplot as plt"
   ]
  },
  {
   "cell_type": "code",
   "execution_count": 2,
   "id": "3d2dd4af-94db-415a-bcba-5e952d39f572",
   "metadata": {
    "ExecuteTime": {
     "end_time": "2023-12-09T07:22:11.492594700Z",
     "start_time": "2023-12-09T07:22:10.253854Z"
    },
    "execution": {
     "iopub.execute_input": "2023-12-15T17:34:13.165384Z",
     "iopub.status.busy": "2023-12-15T17:34:13.164359Z",
     "iopub.status.idle": "2023-12-15T17:34:13.211926Z",
     "shell.execute_reply": "2023-12-15T17:34:13.211926Z"
    },
    "papermill": {
     "duration": 0.071558,
     "end_time": "2023-12-15T17:34:13.214923",
     "exception": false,
     "start_time": "2023-12-15T17:34:13.143365",
     "status": "completed"
    },
    "tags": []
   },
   "outputs": [],
   "source": [
    "train = pd.read_csv('data/train.csv')"
   ]
  },
  {
   "cell_type": "markdown",
   "id": "a84ed52f-728b-49f6-a3bc-294429491d07",
   "metadata": {
    "papermill": {
     "duration": 0.022003,
     "end_time": "2023-12-15T17:34:13.255926",
     "exception": false,
     "start_time": "2023-12-15T17:34:13.233923",
     "status": "completed"
    },
    "tags": []
   },
   "source": [
    "**Заполнение NaN**"
   ]
  },
  {
   "cell_type": "markdown",
   "id": "1c87f66a-3830-4363-8b82-da8db4146fb9",
   "metadata": {
    "papermill": {
     "duration": 0.029582,
     "end_time": "2023-12-15T17:34:13.303510",
     "exception": false,
     "start_time": "2023-12-15T17:34:13.273928",
     "status": "completed"
    },
    "tags": []
   },
   "source": [
    "* HomePlanet"
   ]
  },
  {
   "cell_type": "code",
   "execution_count": 3,
   "id": "cf313bcf-5587-4132-a709-8dcd2ca09fe7",
   "metadata": {
    "ExecuteTime": {
     "end_time": "2023-12-09T07:27:05.211847Z",
     "start_time": "2023-12-09T07:27:03.921959700Z"
    },
    "execution": {
     "iopub.execute_input": "2023-12-15T17:34:13.363515Z",
     "iopub.status.busy": "2023-12-15T17:34:13.363515Z",
     "iopub.status.idle": "2023-12-15T17:34:13.383933Z",
     "shell.execute_reply": "2023-12-15T17:34:13.382935Z"
    },
    "papermill": {
     "duration": 0.055421,
     "end_time": "2023-12-15T17:34:13.386933",
     "exception": false,
     "start_time": "2023-12-15T17:34:13.331512",
     "status": "completed"
    },
    "tags": []
   },
   "outputs": [
    {
     "data": {
      "text/plain": [
       "HomePlanet\n",
       "Earth     0.541922\n",
       "Europa    0.250942\n",
       "Mars      0.207136\n",
       "Name: proportion, dtype: float64"
      ]
     },
     "execution_count": 3,
     "metadata": {},
     "output_type": "execute_result"
    }
   ],
   "source": [
    "train['HomePlanet'].value_counts(normalize=True)"
   ]
  },
  {
   "cell_type": "markdown",
   "id": "fbcc783c-9eaa-4028-9256-80264e52a1fc",
   "metadata": {
    "papermill": {
     "duration": 0.016003,
     "end_time": "2023-12-15T17:34:13.449933",
     "exception": false,
     "start_time": "2023-12-15T17:34:13.433930",
     "status": "completed"
    },
    "tags": []
   },
   "source": [
    "Можем заполнить HomePlanet модой - Earth  и заменить планеты на номера: Europa - 0, Earth - 1, Mars - 2"
   ]
  },
  {
   "cell_type": "code",
   "execution_count": 4,
   "id": "6c2c2bbb-2a16-4c7a-91eb-318981c0245a",
   "metadata": {
    "ExecuteTime": {
     "end_time": "2023-12-09T07:27:05.215319400Z",
     "start_time": "2023-12-09T07:27:04.029393Z"
    },
    "execution": {
     "iopub.execute_input": "2023-12-15T17:34:13.522936Z",
     "iopub.status.busy": "2023-12-15T17:34:13.521930Z",
     "iopub.status.idle": "2023-12-15T17:34:13.534210Z",
     "shell.execute_reply": "2023-12-15T17:34:13.533214Z"
    },
    "papermill": {
     "duration": 0.055281,
     "end_time": "2023-12-15T17:34:13.538212",
     "exception": false,
     "start_time": "2023-12-15T17:34:13.482931",
     "status": "completed"
    },
    "tags": []
   },
   "outputs": [],
   "source": [
    "value = train['HomePlanet'].mode().iloc[0]\n",
    "train['HomePlanet'].fillna(value, inplace=True)"
   ]
  },
  {
   "cell_type": "code",
   "execution_count": 5,
   "id": "90bac60c-1f82-40cd-a5eb-77b2f5d062bd",
   "metadata": {
    "ExecuteTime": {
     "end_time": "2023-12-09T07:27:05.215319400Z",
     "start_time": "2023-12-09T07:27:04.098697600Z"
    },
    "execution": {
     "iopub.execute_input": "2023-12-15T17:34:13.594210Z",
     "iopub.status.busy": "2023-12-15T17:34:13.593210Z",
     "iopub.status.idle": "2023-12-15T17:34:13.604087Z",
     "shell.execute_reply": "2023-12-15T17:34:13.603089Z"
    },
    "papermill": {
     "duration": 0.045876,
     "end_time": "2023-12-15T17:34:13.608086",
     "exception": false,
     "start_time": "2023-12-15T17:34:13.562210",
     "status": "completed"
    },
    "tags": []
   },
   "outputs": [],
   "source": [
    "homeplanet_mapping = {'Europa': 0, 'Earth': 1, 'Mars': 2}\n",
    "train['HomePlanet'] = train['HomePlanet'].map(homeplanet_mapping).astype(int)"
   ]
  },
  {
   "cell_type": "markdown",
   "id": "4ce6403f-1a76-4fcb-9680-10bc36f0d2fe",
   "metadata": {
    "papermill": {
     "duration": 0.032,
     "end_time": "2023-12-15T17:34:13.667085",
     "exception": false,
     "start_time": "2023-12-15T17:34:13.635085",
     "status": "completed"
    },
    "tags": []
   },
   "source": [
    "* CryoSleep"
   ]
  },
  {
   "cell_type": "code",
   "execution_count": 6,
   "id": "0630f2bc-0611-44da-baa6-4117b56b2474",
   "metadata": {
    "ExecuteTime": {
     "end_time": "2023-12-09T07:27:05.255996500Z",
     "start_time": "2023-12-09T07:27:04.161537500Z"
    },
    "execution": {
     "iopub.execute_input": "2023-12-15T17:34:13.731086Z",
     "iopub.status.busy": "2023-12-15T17:34:13.730086Z",
     "iopub.status.idle": "2023-12-15T17:34:13.745604Z",
     "shell.execute_reply": "2023-12-15T17:34:13.744618Z"
    },
    "papermill": {
     "duration": 0.056519,
     "end_time": "2023-12-15T17:34:13.749605",
     "exception": false,
     "start_time": "2023-12-15T17:34:13.693086",
     "status": "completed"
    },
    "tags": []
   },
   "outputs": [
    {
     "data": {
      "text/plain": [
       "CryoSleep\n",
       "False    0.641694\n",
       "True     0.358306\n",
       "Name: proportion, dtype: float64"
      ]
     },
     "execution_count": 6,
     "metadata": {},
     "output_type": "execute_result"
    }
   ],
   "source": [
    "train['CryoSleep'].value_counts(normalize=True)"
   ]
  },
  {
   "cell_type": "markdown",
   "id": "fec85ff8-f3bd-4d16-99fd-a9ea360fc141",
   "metadata": {
    "papermill": {
     "duration": 0.069999,
     "end_time": "2023-12-15T17:34:13.852603",
     "exception": false,
     "start_time": "2023-12-15T17:34:13.782604",
     "status": "completed"
    },
    "tags": []
   },
   "source": [
    "Заменим наны значениями True и False случайным образом с полученными вероятностями и заменим False на 0, True на 1"
   ]
  },
  {
   "cell_type": "code",
   "execution_count": 7,
   "id": "50bd2746-1635-453f-adb4-ee37ccbf2c4c",
   "metadata": {
    "ExecuteTime": {
     "end_time": "2023-12-09T07:27:05.255996500Z",
     "start_time": "2023-12-09T07:27:04.253300400Z"
    },
    "execution": {
     "iopub.execute_input": "2023-12-15T17:34:13.956618Z",
     "iopub.status.busy": "2023-12-15T17:34:13.955604Z",
     "iopub.status.idle": "2023-12-15T17:34:13.972751Z",
     "shell.execute_reply": "2023-12-15T17:34:13.970757Z"
    },
    "papermill": {
     "duration": 0.083145,
     "end_time": "2023-12-15T17:34:13.976749",
     "exception": false,
     "start_time": "2023-12-15T17:34:13.893604",
     "status": "completed"
    },
    "tags": []
   },
   "outputs": [],
   "source": [
    "cryosleep_probabilities = train['CryoSleep'].value_counts(normalize=True).to_dict()\n",
    "train['CryoSleep'].fillna(pd.Series(np.random.choice(list(cryosleep_probabilities.keys()), p=list(cryosleep_probabilities.values()), size=train.shape[0])), inplace=True)"
   ]
  },
  {
   "cell_type": "code",
   "execution_count": 8,
   "id": "465200be-204a-4ffe-a5a6-98f0b8297e3c",
   "metadata": {
    "ExecuteTime": {
     "end_time": "2023-12-09T07:27:05.255996500Z",
     "start_time": "2023-12-09T07:27:04.302880300Z"
    },
    "execution": {
     "iopub.execute_input": "2023-12-15T17:34:14.045759Z",
     "iopub.status.busy": "2023-12-15T17:34:14.044748Z",
     "iopub.status.idle": "2023-12-15T17:34:14.057749Z",
     "shell.execute_reply": "2023-12-15T17:34:14.055750Z"
    },
    "papermill": {
     "duration": 0.048999,
     "end_time": "2023-12-15T17:34:14.062749",
     "exception": false,
     "start_time": "2023-12-15T17:34:14.013750",
     "status": "completed"
    },
    "tags": []
   },
   "outputs": [],
   "source": [
    "cryosleep_mapping = {train['CryoSleep'].unique()[0]: 0, train['CryoSleep'].unique()[1]: 1}\n",
    "train['CryoSleep'] = train['CryoSleep'].map(cryosleep_mapping)"
   ]
  },
  {
   "cell_type": "code",
   "execution_count": 9,
   "id": "50691710-2563-4497-9490-c9a16fb10b28",
   "metadata": {
    "ExecuteTime": {
     "end_time": "2023-12-09T07:27:05.255996500Z",
     "start_time": "2023-12-09T07:27:04.319345900Z"
    },
    "execution": {
     "iopub.execute_input": "2023-12-15T17:34:14.126750Z",
     "iopub.status.busy": "2023-12-15T17:34:14.125751Z",
     "iopub.status.idle": "2023-12-15T17:34:14.166749Z",
     "shell.execute_reply": "2023-12-15T17:34:14.165763Z"
    },
    "papermill": {
     "duration": 0.083,
     "end_time": "2023-12-15T17:34:14.170748",
     "exception": false,
     "start_time": "2023-12-15T17:34:14.087748",
     "status": "completed"
    },
    "tags": []
   },
   "outputs": [
    {
     "data": {
      "text/html": [
       "<div>\n",
       "<style scoped>\n",
       "    .dataframe tbody tr th:only-of-type {\n",
       "        vertical-align: middle;\n",
       "    }\n",
       "\n",
       "    .dataframe tbody tr th {\n",
       "        vertical-align: top;\n",
       "    }\n",
       "\n",
       "    .dataframe thead th {\n",
       "        text-align: right;\n",
       "    }\n",
       "</style>\n",
       "<table border=\"1\" class=\"dataframe\">\n",
       "  <thead>\n",
       "    <tr style=\"text-align: right;\">\n",
       "      <th></th>\n",
       "      <th>PassengerId</th>\n",
       "      <th>HomePlanet</th>\n",
       "      <th>CryoSleep</th>\n",
       "      <th>Cabin</th>\n",
       "      <th>Destination</th>\n",
       "      <th>Age</th>\n",
       "      <th>VIP</th>\n",
       "      <th>RoomService</th>\n",
       "      <th>FoodCourt</th>\n",
       "      <th>ShoppingMall</th>\n",
       "      <th>Spa</th>\n",
       "      <th>VRDeck</th>\n",
       "      <th>Name</th>\n",
       "      <th>Transported</th>\n",
       "    </tr>\n",
       "  </thead>\n",
       "  <tbody>\n",
       "    <tr>\n",
       "      <th>0</th>\n",
       "      <td>0001_01</td>\n",
       "      <td>0</td>\n",
       "      <td>0</td>\n",
       "      <td>B/0/P</td>\n",
       "      <td>TRAPPIST-1e</td>\n",
       "      <td>39.0</td>\n",
       "      <td>False</td>\n",
       "      <td>0.0</td>\n",
       "      <td>0.0</td>\n",
       "      <td>0.0</td>\n",
       "      <td>0.0</td>\n",
       "      <td>0.0</td>\n",
       "      <td>Maham Ofracculy</td>\n",
       "      <td>False</td>\n",
       "    </tr>\n",
       "    <tr>\n",
       "      <th>1</th>\n",
       "      <td>0002_01</td>\n",
       "      <td>1</td>\n",
       "      <td>0</td>\n",
       "      <td>F/0/S</td>\n",
       "      <td>TRAPPIST-1e</td>\n",
       "      <td>24.0</td>\n",
       "      <td>False</td>\n",
       "      <td>109.0</td>\n",
       "      <td>9.0</td>\n",
       "      <td>25.0</td>\n",
       "      <td>549.0</td>\n",
       "      <td>44.0</td>\n",
       "      <td>Juanna Vines</td>\n",
       "      <td>True</td>\n",
       "    </tr>\n",
       "    <tr>\n",
       "      <th>2</th>\n",
       "      <td>0003_01</td>\n",
       "      <td>0</td>\n",
       "      <td>0</td>\n",
       "      <td>A/0/S</td>\n",
       "      <td>TRAPPIST-1e</td>\n",
       "      <td>58.0</td>\n",
       "      <td>True</td>\n",
       "      <td>43.0</td>\n",
       "      <td>3576.0</td>\n",
       "      <td>0.0</td>\n",
       "      <td>6715.0</td>\n",
       "      <td>49.0</td>\n",
       "      <td>Altark Susent</td>\n",
       "      <td>False</td>\n",
       "    </tr>\n",
       "    <tr>\n",
       "      <th>3</th>\n",
       "      <td>0003_02</td>\n",
       "      <td>0</td>\n",
       "      <td>0</td>\n",
       "      <td>A/0/S</td>\n",
       "      <td>TRAPPIST-1e</td>\n",
       "      <td>33.0</td>\n",
       "      <td>False</td>\n",
       "      <td>0.0</td>\n",
       "      <td>1283.0</td>\n",
       "      <td>371.0</td>\n",
       "      <td>3329.0</td>\n",
       "      <td>193.0</td>\n",
       "      <td>Solam Susent</td>\n",
       "      <td>False</td>\n",
       "    </tr>\n",
       "    <tr>\n",
       "      <th>4</th>\n",
       "      <td>0004_01</td>\n",
       "      <td>1</td>\n",
       "      <td>0</td>\n",
       "      <td>F/1/S</td>\n",
       "      <td>TRAPPIST-1e</td>\n",
       "      <td>16.0</td>\n",
       "      <td>False</td>\n",
       "      <td>303.0</td>\n",
       "      <td>70.0</td>\n",
       "      <td>151.0</td>\n",
       "      <td>565.0</td>\n",
       "      <td>2.0</td>\n",
       "      <td>Willy Santantines</td>\n",
       "      <td>True</td>\n",
       "    </tr>\n",
       "  </tbody>\n",
       "</table>\n",
       "</div>"
      ],
      "text/plain": [
       "  PassengerId  HomePlanet  CryoSleep  Cabin  Destination   Age    VIP  \\\n",
       "0     0001_01           0          0  B/0/P  TRAPPIST-1e  39.0  False   \n",
       "1     0002_01           1          0  F/0/S  TRAPPIST-1e  24.0  False   \n",
       "2     0003_01           0          0  A/0/S  TRAPPIST-1e  58.0   True   \n",
       "3     0003_02           0          0  A/0/S  TRAPPIST-1e  33.0  False   \n",
       "4     0004_01           1          0  F/1/S  TRAPPIST-1e  16.0  False   \n",
       "\n",
       "   RoomService  FoodCourt  ShoppingMall     Spa  VRDeck               Name  \\\n",
       "0          0.0        0.0           0.0     0.0     0.0    Maham Ofracculy   \n",
       "1        109.0        9.0          25.0   549.0    44.0       Juanna Vines   \n",
       "2         43.0     3576.0           0.0  6715.0    49.0      Altark Susent   \n",
       "3          0.0     1283.0         371.0  3329.0   193.0       Solam Susent   \n",
       "4        303.0       70.0         151.0   565.0     2.0  Willy Santantines   \n",
       "\n",
       "   Transported  \n",
       "0        False  \n",
       "1         True  \n",
       "2        False  \n",
       "3        False  \n",
       "4         True  "
      ]
     },
     "execution_count": 9,
     "metadata": {},
     "output_type": "execute_result"
    }
   ],
   "source": [
    "train.head()"
   ]
  },
  {
   "cell_type": "markdown",
   "id": "0c103470-a7af-42e8-b67c-339caf0ad426",
   "metadata": {
    "papermill": {
     "duration": 0.018002,
     "end_time": "2023-12-15T17:34:14.217749",
     "exception": false,
     "start_time": "2023-12-15T17:34:14.199747",
     "status": "completed"
    },
    "tags": []
   },
   "source": [
    "* Cabin"
   ]
  },
  {
   "cell_type": "markdown",
   "id": "76a44562-e65e-4c31-87c7-71cfecedd3aa",
   "metadata": {
    "papermill": {
     "duration": 0.019,
     "end_time": "2023-12-15T17:34:14.266749",
     "exception": false,
     "start_time": "2023-12-15T17:34:14.247749",
     "status": "completed"
    },
    "tags": []
   },
   "source": [
    "Создадим 3 доп. столбца: Deck, Num, Side"
   ]
  },
  {
   "cell_type": "code",
   "execution_count": 10,
   "id": "5ec8605a-e58b-46e0-96ee-f19d84933734",
   "metadata": {
    "ExecuteTime": {
     "end_time": "2023-12-09T07:27:05.268129400Z",
     "start_time": "2023-12-09T07:27:04.396199300Z"
    },
    "execution": {
     "iopub.execute_input": "2023-12-15T17:34:14.332749Z",
     "iopub.status.busy": "2023-12-15T17:34:14.331748Z",
     "iopub.status.idle": "2023-12-15T17:34:14.398048Z",
     "shell.execute_reply": "2023-12-15T17:34:14.397058Z"
    },
    "papermill": {
     "duration": 0.102302,
     "end_time": "2023-12-15T17:34:14.401050",
     "exception": false,
     "start_time": "2023-12-15T17:34:14.298748",
     "status": "completed"
    },
    "tags": []
   },
   "outputs": [
    {
     "data": {
      "text/html": [
       "<div>\n",
       "<style scoped>\n",
       "    .dataframe tbody tr th:only-of-type {\n",
       "        vertical-align: middle;\n",
       "    }\n",
       "\n",
       "    .dataframe tbody tr th {\n",
       "        vertical-align: top;\n",
       "    }\n",
       "\n",
       "    .dataframe thead th {\n",
       "        text-align: right;\n",
       "    }\n",
       "</style>\n",
       "<table border=\"1\" class=\"dataframe\">\n",
       "  <thead>\n",
       "    <tr style=\"text-align: right;\">\n",
       "      <th></th>\n",
       "      <th>PassengerId</th>\n",
       "      <th>HomePlanet</th>\n",
       "      <th>CryoSleep</th>\n",
       "      <th>Cabin</th>\n",
       "      <th>Destination</th>\n",
       "      <th>Age</th>\n",
       "      <th>VIP</th>\n",
       "      <th>RoomService</th>\n",
       "      <th>FoodCourt</th>\n",
       "      <th>ShoppingMall</th>\n",
       "      <th>Spa</th>\n",
       "      <th>VRDeck</th>\n",
       "      <th>Name</th>\n",
       "      <th>Transported</th>\n",
       "      <th>Deck</th>\n",
       "      <th>Num</th>\n",
       "      <th>Side</th>\n",
       "    </tr>\n",
       "  </thead>\n",
       "  <tbody>\n",
       "    <tr>\n",
       "      <th>0</th>\n",
       "      <td>0001_01</td>\n",
       "      <td>0</td>\n",
       "      <td>0</td>\n",
       "      <td>B/0/P</td>\n",
       "      <td>TRAPPIST-1e</td>\n",
       "      <td>39.0</td>\n",
       "      <td>False</td>\n",
       "      <td>0.0</td>\n",
       "      <td>0.0</td>\n",
       "      <td>0.0</td>\n",
       "      <td>0.0</td>\n",
       "      <td>0.0</td>\n",
       "      <td>Maham Ofracculy</td>\n",
       "      <td>False</td>\n",
       "      <td>B</td>\n",
       "      <td>0</td>\n",
       "      <td>P</td>\n",
       "    </tr>\n",
       "    <tr>\n",
       "      <th>1</th>\n",
       "      <td>0002_01</td>\n",
       "      <td>1</td>\n",
       "      <td>0</td>\n",
       "      <td>F/0/S</td>\n",
       "      <td>TRAPPIST-1e</td>\n",
       "      <td>24.0</td>\n",
       "      <td>False</td>\n",
       "      <td>109.0</td>\n",
       "      <td>9.0</td>\n",
       "      <td>25.0</td>\n",
       "      <td>549.0</td>\n",
       "      <td>44.0</td>\n",
       "      <td>Juanna Vines</td>\n",
       "      <td>True</td>\n",
       "      <td>F</td>\n",
       "      <td>0</td>\n",
       "      <td>S</td>\n",
       "    </tr>\n",
       "    <tr>\n",
       "      <th>2</th>\n",
       "      <td>0003_01</td>\n",
       "      <td>0</td>\n",
       "      <td>0</td>\n",
       "      <td>A/0/S</td>\n",
       "      <td>TRAPPIST-1e</td>\n",
       "      <td>58.0</td>\n",
       "      <td>True</td>\n",
       "      <td>43.0</td>\n",
       "      <td>3576.0</td>\n",
       "      <td>0.0</td>\n",
       "      <td>6715.0</td>\n",
       "      <td>49.0</td>\n",
       "      <td>Altark Susent</td>\n",
       "      <td>False</td>\n",
       "      <td>A</td>\n",
       "      <td>0</td>\n",
       "      <td>S</td>\n",
       "    </tr>\n",
       "    <tr>\n",
       "      <th>3</th>\n",
       "      <td>0003_02</td>\n",
       "      <td>0</td>\n",
       "      <td>0</td>\n",
       "      <td>A/0/S</td>\n",
       "      <td>TRAPPIST-1e</td>\n",
       "      <td>33.0</td>\n",
       "      <td>False</td>\n",
       "      <td>0.0</td>\n",
       "      <td>1283.0</td>\n",
       "      <td>371.0</td>\n",
       "      <td>3329.0</td>\n",
       "      <td>193.0</td>\n",
       "      <td>Solam Susent</td>\n",
       "      <td>False</td>\n",
       "      <td>A</td>\n",
       "      <td>0</td>\n",
       "      <td>S</td>\n",
       "    </tr>\n",
       "    <tr>\n",
       "      <th>4</th>\n",
       "      <td>0004_01</td>\n",
       "      <td>1</td>\n",
       "      <td>0</td>\n",
       "      <td>F/1/S</td>\n",
       "      <td>TRAPPIST-1e</td>\n",
       "      <td>16.0</td>\n",
       "      <td>False</td>\n",
       "      <td>303.0</td>\n",
       "      <td>70.0</td>\n",
       "      <td>151.0</td>\n",
       "      <td>565.0</td>\n",
       "      <td>2.0</td>\n",
       "      <td>Willy Santantines</td>\n",
       "      <td>True</td>\n",
       "      <td>F</td>\n",
       "      <td>1</td>\n",
       "      <td>S</td>\n",
       "    </tr>\n",
       "  </tbody>\n",
       "</table>\n",
       "</div>"
      ],
      "text/plain": [
       "  PassengerId  HomePlanet  CryoSleep  Cabin  Destination   Age    VIP  \\\n",
       "0     0001_01           0          0  B/0/P  TRAPPIST-1e  39.0  False   \n",
       "1     0002_01           1          0  F/0/S  TRAPPIST-1e  24.0  False   \n",
       "2     0003_01           0          0  A/0/S  TRAPPIST-1e  58.0   True   \n",
       "3     0003_02           0          0  A/0/S  TRAPPIST-1e  33.0  False   \n",
       "4     0004_01           1          0  F/1/S  TRAPPIST-1e  16.0  False   \n",
       "\n",
       "   RoomService  FoodCourt  ShoppingMall     Spa  VRDeck               Name  \\\n",
       "0          0.0        0.0           0.0     0.0     0.0    Maham Ofracculy   \n",
       "1        109.0        9.0          25.0   549.0    44.0       Juanna Vines   \n",
       "2         43.0     3576.0           0.0  6715.0    49.0      Altark Susent   \n",
       "3          0.0     1283.0         371.0  3329.0   193.0       Solam Susent   \n",
       "4        303.0       70.0         151.0   565.0     2.0  Willy Santantines   \n",
       "\n",
       "   Transported Deck Num Side  \n",
       "0        False    B   0    P  \n",
       "1         True    F   0    S  \n",
       "2        False    A   0    S  \n",
       "3        False    A   0    S  \n",
       "4         True    F   1    S  "
      ]
     },
     "execution_count": 10,
     "metadata": {},
     "output_type": "execute_result"
    }
   ],
   "source": [
    "train[['Deck', 'Num', 'Side']] = train['Cabin'].str.split('/', expand=True)\n",
    "train.head()"
   ]
  },
  {
   "cell_type": "code",
   "execution_count": 11,
   "id": "ab803ca5-ded2-4661-aa73-58d7a32fe92f",
   "metadata": {
    "ExecuteTime": {
     "end_time": "2023-12-09T07:27:05.270777900Z",
     "start_time": "2023-12-09T07:27:04.548759200Z"
    },
    "execution": {
     "iopub.execute_input": "2023-12-15T17:34:14.469047Z",
     "iopub.status.busy": "2023-12-15T17:34:14.468049Z",
     "iopub.status.idle": "2023-12-15T17:34:14.484035Z",
     "shell.execute_reply": "2023-12-15T17:34:14.482326Z"
    },
    "papermill": {
     "duration": 0.049983,
     "end_time": "2023-12-15T17:34:14.488033",
     "exception": false,
     "start_time": "2023-12-15T17:34:14.438050",
     "status": "completed"
    },
    "tags": []
   },
   "outputs": [
    {
     "name": "stdout",
     "output_type": "stream",
     "text": [
      "Deck\n",
      "F    0.328938\n",
      "G    0.301271\n",
      "E    0.103132\n",
      "B    0.091712\n",
      "C    0.087944\n",
      "D    0.056275\n",
      "A    0.030139\n",
      "T    0.000589\n",
      "Name: proportion, dtype: float64\n",
      "Side\n",
      "S    0.504827\n",
      "P    0.495173\n",
      "Name: proportion, dtype: float64\n"
     ]
    }
   ],
   "source": [
    "print(train['Deck'].value_counts(normalize=True))\n",
    "print(train['Side'].value_counts(normalize=True))"
   ]
  },
  {
   "cell_type": "markdown",
   "id": "9ed3ff9c-44bd-4a83-aede-a56c7154335f",
   "metadata": {
    "papermill": {
     "duration": 0.030988,
     "end_time": "2023-12-15T17:34:14.540037",
     "exception": false,
     "start_time": "2023-12-15T17:34:14.509049",
     "status": "completed"
    },
    "tags": []
   },
   "source": [
    "Заполним Deck и Side аналогично CryoSleep"
   ]
  },
  {
   "cell_type": "code",
   "execution_count": 12,
   "id": "d783d240-38a2-4bbb-9204-be174c2f6a97",
   "metadata": {
    "ExecuteTime": {
     "end_time": "2023-12-09T07:27:05.270777900Z",
     "start_time": "2023-12-09T07:27:04.601183400Z"
    },
    "execution": {
     "iopub.execute_input": "2023-12-15T17:34:14.583032Z",
     "iopub.status.busy": "2023-12-15T17:34:14.582033Z",
     "iopub.status.idle": "2023-12-15T17:34:14.598967Z",
     "shell.execute_reply": "2023-12-15T17:34:14.597963Z"
    },
    "papermill": {
     "duration": 0.042928,
     "end_time": "2023-12-15T17:34:14.601963",
     "exception": false,
     "start_time": "2023-12-15T17:34:14.559035",
     "status": "completed"
    },
    "tags": []
   },
   "outputs": [],
   "source": [
    "deck_probabilities = train['Deck'].value_counts(normalize=True).to_dict()\n",
    "side_probabilities = train['Side'].value_counts(normalize=True).to_dict()\n",
    "train['Deck'].fillna(pd.Series(np.random.choice(list(deck_probabilities.keys()), p=list(deck_probabilities.values()), size=train.shape[0])), inplace=True)\n",
    "train['Side'].fillna(pd.Series(np.random.choice(list(side_probabilities.keys()), p=list(side_probabilities.values()), size=train.shape[0])), inplace=True)"
   ]
  },
  {
   "cell_type": "code",
   "execution_count": 13,
   "id": "729c920a-881e-44e6-a502-55abec90ffa5",
   "metadata": {
    "ExecuteTime": {
     "end_time": "2023-12-09T07:27:05.270777900Z",
     "start_time": "2023-12-09T07:27:04.632295800Z"
    },
    "execution": {
     "iopub.execute_input": "2023-12-15T17:34:14.643961Z",
     "iopub.status.busy": "2023-12-15T17:34:14.642965Z",
     "iopub.status.idle": "2023-12-15T17:34:14.659510Z",
     "shell.execute_reply": "2023-12-15T17:34:14.657510Z"
    },
    "papermill": {
     "duration": 0.045549,
     "end_time": "2023-12-15T17:34:14.669512",
     "exception": false,
     "start_time": "2023-12-15T17:34:14.623963",
     "status": "completed"
    },
    "tags": []
   },
   "outputs": [],
   "source": [
    "side_mapping = {train['Side'].unique()[0]: 0, train['Side'].unique()[1]: 1}\n",
    "train['Side'] = train['Side'].map(side_mapping).astype(int)\n",
    "deck_unique_values = train['Deck'].unique()\n",
    "deck_mapping = {value: index for index, value in enumerate(deck_unique_values)}\n",
    "train['Deck'] = train['Deck'].map(deck_mapping).astype(int)"
   ]
  },
  {
   "cell_type": "markdown",
   "id": "c952422e-b884-4d32-b7ff-73f936c2eaf4",
   "metadata": {
    "papermill": {
     "duration": 0.069999,
     "end_time": "2023-12-15T17:34:14.782507",
     "exception": false,
     "start_time": "2023-12-15T17:34:14.712508",
     "status": "completed"
    },
    "tags": []
   },
   "source": [
    "Num заполним медианой"
   ]
  },
  {
   "cell_type": "code",
   "execution_count": 14,
   "id": "1550cac4-9540-44ed-a938-a1b3ecbb269e",
   "metadata": {
    "ExecuteTime": {
     "end_time": "2023-12-09T07:27:05.842109300Z",
     "start_time": "2023-12-09T07:27:04.679323800Z"
    },
    "execution": {
     "iopub.execute_input": "2023-12-15T17:34:14.920505Z",
     "iopub.status.busy": "2023-12-15T17:34:14.919511Z",
     "iopub.status.idle": "2023-12-15T17:34:14.930741Z",
     "shell.execute_reply": "2023-12-15T17:34:14.929742Z"
    },
    "papermill": {
     "duration": 0.051231,
     "end_time": "2023-12-15T17:34:14.932739",
     "exception": false,
     "start_time": "2023-12-15T17:34:14.881508",
     "status": "completed"
    },
    "tags": []
   },
   "outputs": [],
   "source": [
    "train['Num'].fillna(train['Num'].median(), inplace=True)\n",
    "train['Num'] = train['Num'].astype(int)"
   ]
  },
  {
   "cell_type": "markdown",
   "id": "26a763fc-da6d-4553-a081-ef39b5beb7ad",
   "metadata": {
    "papermill": {
     "duration": 0.038003,
     "end_time": "2023-12-15T17:34:14.988743",
     "exception": false,
     "start_time": "2023-12-15T17:34:14.950740",
     "status": "completed"
    },
    "tags": []
   },
   "source": [
    "Всю информацию из Cabin мы получили, так что можно удалить этот столбец"
   ]
  },
  {
   "cell_type": "code",
   "execution_count": 15,
   "id": "8a8e7b6d-da6d-4d19-9f29-cf54691e6135",
   "metadata": {
    "ExecuteTime": {
     "end_time": "2023-12-09T07:27:07.312768600Z",
     "start_time": "2023-12-09T07:27:05.308871800Z"
    },
    "execution": {
     "iopub.execute_input": "2023-12-15T17:34:15.050741Z",
     "iopub.status.busy": "2023-12-15T17:34:15.049746Z",
     "iopub.status.idle": "2023-12-15T17:34:15.091470Z",
     "shell.execute_reply": "2023-12-15T17:34:15.090489Z"
    },
    "papermill": {
     "duration": 0.074729,
     "end_time": "2023-12-15T17:34:15.094469",
     "exception": false,
     "start_time": "2023-12-15T17:34:15.019740",
     "status": "completed"
    },
    "tags": []
   },
   "outputs": [
    {
     "data": {
      "text/html": [
       "<div>\n",
       "<style scoped>\n",
       "    .dataframe tbody tr th:only-of-type {\n",
       "        vertical-align: middle;\n",
       "    }\n",
       "\n",
       "    .dataframe tbody tr th {\n",
       "        vertical-align: top;\n",
       "    }\n",
       "\n",
       "    .dataframe thead th {\n",
       "        text-align: right;\n",
       "    }\n",
       "</style>\n",
       "<table border=\"1\" class=\"dataframe\">\n",
       "  <thead>\n",
       "    <tr style=\"text-align: right;\">\n",
       "      <th></th>\n",
       "      <th>PassengerId</th>\n",
       "      <th>HomePlanet</th>\n",
       "      <th>CryoSleep</th>\n",
       "      <th>Destination</th>\n",
       "      <th>Age</th>\n",
       "      <th>VIP</th>\n",
       "      <th>RoomService</th>\n",
       "      <th>FoodCourt</th>\n",
       "      <th>ShoppingMall</th>\n",
       "      <th>Spa</th>\n",
       "      <th>VRDeck</th>\n",
       "      <th>Name</th>\n",
       "      <th>Transported</th>\n",
       "      <th>Deck</th>\n",
       "      <th>Num</th>\n",
       "      <th>Side</th>\n",
       "    </tr>\n",
       "  </thead>\n",
       "  <tbody>\n",
       "    <tr>\n",
       "      <th>0</th>\n",
       "      <td>0001_01</td>\n",
       "      <td>0</td>\n",
       "      <td>0</td>\n",
       "      <td>TRAPPIST-1e</td>\n",
       "      <td>39.0</td>\n",
       "      <td>False</td>\n",
       "      <td>0.0</td>\n",
       "      <td>0.0</td>\n",
       "      <td>0.0</td>\n",
       "      <td>0.0</td>\n",
       "      <td>0.0</td>\n",
       "      <td>Maham Ofracculy</td>\n",
       "      <td>False</td>\n",
       "      <td>0</td>\n",
       "      <td>0</td>\n",
       "      <td>0</td>\n",
       "    </tr>\n",
       "    <tr>\n",
       "      <th>1</th>\n",
       "      <td>0002_01</td>\n",
       "      <td>1</td>\n",
       "      <td>0</td>\n",
       "      <td>TRAPPIST-1e</td>\n",
       "      <td>24.0</td>\n",
       "      <td>False</td>\n",
       "      <td>109.0</td>\n",
       "      <td>9.0</td>\n",
       "      <td>25.0</td>\n",
       "      <td>549.0</td>\n",
       "      <td>44.0</td>\n",
       "      <td>Juanna Vines</td>\n",
       "      <td>True</td>\n",
       "      <td>1</td>\n",
       "      <td>0</td>\n",
       "      <td>1</td>\n",
       "    </tr>\n",
       "    <tr>\n",
       "      <th>2</th>\n",
       "      <td>0003_01</td>\n",
       "      <td>0</td>\n",
       "      <td>0</td>\n",
       "      <td>TRAPPIST-1e</td>\n",
       "      <td>58.0</td>\n",
       "      <td>True</td>\n",
       "      <td>43.0</td>\n",
       "      <td>3576.0</td>\n",
       "      <td>0.0</td>\n",
       "      <td>6715.0</td>\n",
       "      <td>49.0</td>\n",
       "      <td>Altark Susent</td>\n",
       "      <td>False</td>\n",
       "      <td>2</td>\n",
       "      <td>0</td>\n",
       "      <td>1</td>\n",
       "    </tr>\n",
       "    <tr>\n",
       "      <th>3</th>\n",
       "      <td>0003_02</td>\n",
       "      <td>0</td>\n",
       "      <td>0</td>\n",
       "      <td>TRAPPIST-1e</td>\n",
       "      <td>33.0</td>\n",
       "      <td>False</td>\n",
       "      <td>0.0</td>\n",
       "      <td>1283.0</td>\n",
       "      <td>371.0</td>\n",
       "      <td>3329.0</td>\n",
       "      <td>193.0</td>\n",
       "      <td>Solam Susent</td>\n",
       "      <td>False</td>\n",
       "      <td>2</td>\n",
       "      <td>0</td>\n",
       "      <td>1</td>\n",
       "    </tr>\n",
       "    <tr>\n",
       "      <th>4</th>\n",
       "      <td>0004_01</td>\n",
       "      <td>1</td>\n",
       "      <td>0</td>\n",
       "      <td>TRAPPIST-1e</td>\n",
       "      <td>16.0</td>\n",
       "      <td>False</td>\n",
       "      <td>303.0</td>\n",
       "      <td>70.0</td>\n",
       "      <td>151.0</td>\n",
       "      <td>565.0</td>\n",
       "      <td>2.0</td>\n",
       "      <td>Willy Santantines</td>\n",
       "      <td>True</td>\n",
       "      <td>1</td>\n",
       "      <td>1</td>\n",
       "      <td>1</td>\n",
       "    </tr>\n",
       "  </tbody>\n",
       "</table>\n",
       "</div>"
      ],
      "text/plain": [
       "  PassengerId  HomePlanet  CryoSleep  Destination   Age    VIP  RoomService  \\\n",
       "0     0001_01           0          0  TRAPPIST-1e  39.0  False          0.0   \n",
       "1     0002_01           1          0  TRAPPIST-1e  24.0  False        109.0   \n",
       "2     0003_01           0          0  TRAPPIST-1e  58.0   True         43.0   \n",
       "3     0003_02           0          0  TRAPPIST-1e  33.0  False          0.0   \n",
       "4     0004_01           1          0  TRAPPIST-1e  16.0  False        303.0   \n",
       "\n",
       "   FoodCourt  ShoppingMall     Spa  VRDeck               Name  Transported  \\\n",
       "0        0.0           0.0     0.0     0.0    Maham Ofracculy        False   \n",
       "1        9.0          25.0   549.0    44.0       Juanna Vines         True   \n",
       "2     3576.0           0.0  6715.0    49.0      Altark Susent        False   \n",
       "3     1283.0         371.0  3329.0   193.0       Solam Susent        False   \n",
       "4       70.0         151.0   565.0     2.0  Willy Santantines         True   \n",
       "\n",
       "   Deck  Num  Side  \n",
       "0     0    0     0  \n",
       "1     1    0     1  \n",
       "2     2    0     1  \n",
       "3     2    0     1  \n",
       "4     1    1     1  "
      ]
     },
     "execution_count": 15,
     "metadata": {},
     "output_type": "execute_result"
    }
   ],
   "source": [
    "train = train.drop('Cabin', axis=1)\n",
    "train.head()"
   ]
  },
  {
   "cell_type": "markdown",
   "id": "54e24e57-b1a3-4930-832c-23ade774ec21",
   "metadata": {
    "papermill": {
     "duration": 0.060999,
     "end_time": "2023-12-15T17:34:15.209471",
     "exception": false,
     "start_time": "2023-12-15T17:34:15.148472",
     "status": "completed"
    },
    "tags": []
   },
   "source": [
    "* Destination"
   ]
  },
  {
   "cell_type": "code",
   "execution_count": 16,
   "id": "94a0e9aa-d2f3-48fd-bcf5-c9ff9fca6ce7",
   "metadata": {
    "ExecuteTime": {
     "end_time": "2023-12-09T07:27:07.344304400Z",
     "start_time": "2023-12-09T07:27:06.864222600Z"
    },
    "execution": {
     "iopub.execute_input": "2023-12-15T17:34:15.270470Z",
     "iopub.status.busy": "2023-12-15T17:34:15.269471Z",
     "iopub.status.idle": "2023-12-15T17:34:15.281825Z",
     "shell.execute_reply": "2023-12-15T17:34:15.280830Z"
    },
    "papermill": {
     "duration": 0.046356,
     "end_time": "2023-12-15T17:34:15.282826",
     "exception": false,
     "start_time": "2023-12-15T17:34:15.236470",
     "status": "completed"
    },
    "tags": []
   },
   "outputs": [
    {
     "data": {
      "text/plain": [
       "Destination\n",
       "TRAPPIST-1e      0.694983\n",
       "55 Cancri e      0.211491\n",
       "PSO J318.5-22    0.093526\n",
       "Name: proportion, dtype: float64"
      ]
     },
     "execution_count": 16,
     "metadata": {},
     "output_type": "execute_result"
    }
   ],
   "source": [
    "train['Destination'].value_counts(normalize=True)"
   ]
  },
  {
   "cell_type": "markdown",
   "id": "788ce66c-8925-4d82-ae61-423eb8aad313",
   "metadata": {
    "papermill": {
     "duration": 0.029998,
     "end_time": "2023-12-15T17:34:15.340827",
     "exception": false,
     "start_time": "2023-12-15T17:34:15.310829",
     "status": "completed"
    },
    "tags": []
   },
   "source": [
    "TRAPPIST-1e встречается гораздо чаще остальных, так что заполним им пропуски"
   ]
  },
  {
   "cell_type": "code",
   "execution_count": 17,
   "id": "7aaaa8c3-3050-45a9-99b1-4a4fc5a077f4",
   "metadata": {
    "ExecuteTime": {
     "end_time": "2023-12-09T07:27:07.344304400Z",
     "start_time": "2023-12-09T07:27:06.886349400Z"
    },
    "execution": {
     "iopub.execute_input": "2023-12-15T17:34:15.392839Z",
     "iopub.status.busy": "2023-12-15T17:34:15.391828Z",
     "iopub.status.idle": "2023-12-15T17:34:15.401229Z",
     "shell.execute_reply": "2023-12-15T17:34:15.400232Z"
    },
    "papermill": {
     "duration": 0.0484,
     "end_time": "2023-12-15T17:34:15.416228",
     "exception": false,
     "start_time": "2023-12-15T17:34:15.367828",
     "status": "completed"
    },
    "tags": []
   },
   "outputs": [],
   "source": [
    "value = train['Destination'].mode().iloc[0]\n",
    "train['Destination'].fillna(value, inplace=True)"
   ]
  },
  {
   "cell_type": "code",
   "execution_count": 18,
   "id": "5d8a248a-77f0-4c9b-b20f-eaef0a1e94bd",
   "metadata": {
    "ExecuteTime": {
     "end_time": "2023-12-09T07:27:07.410768600Z",
     "start_time": "2023-12-09T07:27:06.909446100Z"
    },
    "execution": {
     "iopub.execute_input": "2023-12-15T17:34:15.462572Z",
     "iopub.status.busy": "2023-12-15T17:34:15.462572Z",
     "iopub.status.idle": "2023-12-15T17:34:15.471120Z",
     "shell.execute_reply": "2023-12-15T17:34:15.470124Z"
    },
    "papermill": {
     "duration": 0.037892,
     "end_time": "2023-12-15T17:34:15.477122",
     "exception": false,
     "start_time": "2023-12-15T17:34:15.439230",
     "status": "completed"
    },
    "tags": []
   },
   "outputs": [],
   "source": [
    "destination_mapping = {'TRAPPIST-1e': 0, 'PSO J318.5-22': 1, '55 Cancri e': 2}\n",
    "train['Destination'] = train['Destination'].map(destination_mapping).astype(int)"
   ]
  },
  {
   "cell_type": "markdown",
   "id": "6571f147-c08b-46dc-80c3-37b9f2cfb49c",
   "metadata": {
    "papermill": {
     "duration": 0.027003,
     "end_time": "2023-12-15T17:34:15.529122",
     "exception": false,
     "start_time": "2023-12-15T17:34:15.502119",
     "status": "completed"
    },
    "tags": []
   },
   "source": [
    "Можем также создать столбец \"Route\", в который записать одно из 9 направлений:\n",
    "1. Europa - TRAPPIST-1e\n",
    "2. Europa - PSO J318.5-22\n",
    "3. Europa - 55 Cancri e\n",
    "4. Earth - TRAPPIST-1e\n",
    "5. Earth - PSO J318.5-22\n",
    "6. Earth - 55 Cancri e\n",
    "7. Mars - TRAPPIST-1e\n",
    "8. Mars - PSO J318.5-22\n",
    "9. Mars - 55 Cancri e"
   ]
  },
  {
   "cell_type": "code",
   "execution_count": 19,
   "id": "9de2e529-02af-4852-82ca-79b266ec3f85",
   "metadata": {
    "ExecuteTime": {
     "end_time": "2023-12-09T07:27:07.456505200Z",
     "start_time": "2023-12-09T07:27:06.969796600Z"
    },
    "execution": {
     "iopub.execute_input": "2023-12-15T17:34:15.575736Z",
     "iopub.status.busy": "2023-12-15T17:34:15.574736Z",
     "iopub.status.idle": "2023-12-15T17:34:15.679836Z",
     "shell.execute_reply": "2023-12-15T17:34:15.678838Z"
    },
    "papermill": {
     "duration": 0.127099,
     "end_time": "2023-12-15T17:34:15.681837",
     "exception": false,
     "start_time": "2023-12-15T17:34:15.554738",
     "status": "completed"
    },
    "tags": []
   },
   "outputs": [],
   "source": [
    "def create_route(row):\n",
    "    home_planet = row['HomePlanet']\n",
    "    destination = row['Destination']\n",
    "    route_number = home_planet * len(destination_mapping) + destination + 1\n",
    "    return route_number\n",
    "\n",
    "train['Route'] = train.apply(create_route, axis=1)"
   ]
  },
  {
   "cell_type": "code",
   "execution_count": 20,
   "id": "5b4b072d-8c43-43ee-a8b3-b8d6d5b8e0ce",
   "metadata": {
    "ExecuteTime": {
     "end_time": "2023-12-09T07:27:07.456505200Z",
     "start_time": "2023-12-09T07:27:07.282582500Z"
    },
    "execution": {
     "iopub.execute_input": "2023-12-15T17:34:15.721837Z",
     "iopub.status.busy": "2023-12-15T17:34:15.719835Z",
     "iopub.status.idle": "2023-12-15T17:34:15.744747Z",
     "shell.execute_reply": "2023-12-15T17:34:15.743749Z"
    },
    "papermill": {
     "duration": 0.045913,
     "end_time": "2023-12-15T17:34:15.746749",
     "exception": false,
     "start_time": "2023-12-15T17:34:15.700836",
     "status": "completed"
    },
    "tags": []
   },
   "outputs": [
    {
     "data": {
      "text/html": [
       "<div>\n",
       "<style scoped>\n",
       "    .dataframe tbody tr th:only-of-type {\n",
       "        vertical-align: middle;\n",
       "    }\n",
       "\n",
       "    .dataframe tbody tr th {\n",
       "        vertical-align: top;\n",
       "    }\n",
       "\n",
       "    .dataframe thead th {\n",
       "        text-align: right;\n",
       "    }\n",
       "</style>\n",
       "<table border=\"1\" class=\"dataframe\">\n",
       "  <thead>\n",
       "    <tr style=\"text-align: right;\">\n",
       "      <th></th>\n",
       "      <th>PassengerId</th>\n",
       "      <th>HomePlanet</th>\n",
       "      <th>CryoSleep</th>\n",
       "      <th>Destination</th>\n",
       "      <th>Age</th>\n",
       "      <th>VIP</th>\n",
       "      <th>RoomService</th>\n",
       "      <th>FoodCourt</th>\n",
       "      <th>ShoppingMall</th>\n",
       "      <th>Spa</th>\n",
       "      <th>VRDeck</th>\n",
       "      <th>Name</th>\n",
       "      <th>Transported</th>\n",
       "      <th>Deck</th>\n",
       "      <th>Num</th>\n",
       "      <th>Side</th>\n",
       "      <th>Route</th>\n",
       "    </tr>\n",
       "  </thead>\n",
       "  <tbody>\n",
       "    <tr>\n",
       "      <th>0</th>\n",
       "      <td>0001_01</td>\n",
       "      <td>0</td>\n",
       "      <td>0</td>\n",
       "      <td>0</td>\n",
       "      <td>39.0</td>\n",
       "      <td>False</td>\n",
       "      <td>0.0</td>\n",
       "      <td>0.0</td>\n",
       "      <td>0.0</td>\n",
       "      <td>0.0</td>\n",
       "      <td>0.0</td>\n",
       "      <td>Maham Ofracculy</td>\n",
       "      <td>False</td>\n",
       "      <td>0</td>\n",
       "      <td>0</td>\n",
       "      <td>0</td>\n",
       "      <td>1</td>\n",
       "    </tr>\n",
       "    <tr>\n",
       "      <th>1</th>\n",
       "      <td>0002_01</td>\n",
       "      <td>1</td>\n",
       "      <td>0</td>\n",
       "      <td>0</td>\n",
       "      <td>24.0</td>\n",
       "      <td>False</td>\n",
       "      <td>109.0</td>\n",
       "      <td>9.0</td>\n",
       "      <td>25.0</td>\n",
       "      <td>549.0</td>\n",
       "      <td>44.0</td>\n",
       "      <td>Juanna Vines</td>\n",
       "      <td>True</td>\n",
       "      <td>1</td>\n",
       "      <td>0</td>\n",
       "      <td>1</td>\n",
       "      <td>4</td>\n",
       "    </tr>\n",
       "    <tr>\n",
       "      <th>2</th>\n",
       "      <td>0003_01</td>\n",
       "      <td>0</td>\n",
       "      <td>0</td>\n",
       "      <td>0</td>\n",
       "      <td>58.0</td>\n",
       "      <td>True</td>\n",
       "      <td>43.0</td>\n",
       "      <td>3576.0</td>\n",
       "      <td>0.0</td>\n",
       "      <td>6715.0</td>\n",
       "      <td>49.0</td>\n",
       "      <td>Altark Susent</td>\n",
       "      <td>False</td>\n",
       "      <td>2</td>\n",
       "      <td>0</td>\n",
       "      <td>1</td>\n",
       "      <td>1</td>\n",
       "    </tr>\n",
       "    <tr>\n",
       "      <th>3</th>\n",
       "      <td>0003_02</td>\n",
       "      <td>0</td>\n",
       "      <td>0</td>\n",
       "      <td>0</td>\n",
       "      <td>33.0</td>\n",
       "      <td>False</td>\n",
       "      <td>0.0</td>\n",
       "      <td>1283.0</td>\n",
       "      <td>371.0</td>\n",
       "      <td>3329.0</td>\n",
       "      <td>193.0</td>\n",
       "      <td>Solam Susent</td>\n",
       "      <td>False</td>\n",
       "      <td>2</td>\n",
       "      <td>0</td>\n",
       "      <td>1</td>\n",
       "      <td>1</td>\n",
       "    </tr>\n",
       "    <tr>\n",
       "      <th>4</th>\n",
       "      <td>0004_01</td>\n",
       "      <td>1</td>\n",
       "      <td>0</td>\n",
       "      <td>0</td>\n",
       "      <td>16.0</td>\n",
       "      <td>False</td>\n",
       "      <td>303.0</td>\n",
       "      <td>70.0</td>\n",
       "      <td>151.0</td>\n",
       "      <td>565.0</td>\n",
       "      <td>2.0</td>\n",
       "      <td>Willy Santantines</td>\n",
       "      <td>True</td>\n",
       "      <td>1</td>\n",
       "      <td>1</td>\n",
       "      <td>1</td>\n",
       "      <td>4</td>\n",
       "    </tr>\n",
       "  </tbody>\n",
       "</table>\n",
       "</div>"
      ],
      "text/plain": [
       "  PassengerId  HomePlanet  CryoSleep  Destination   Age    VIP  RoomService  \\\n",
       "0     0001_01           0          0            0  39.0  False          0.0   \n",
       "1     0002_01           1          0            0  24.0  False        109.0   \n",
       "2     0003_01           0          0            0  58.0   True         43.0   \n",
       "3     0003_02           0          0            0  33.0  False          0.0   \n",
       "4     0004_01           1          0            0  16.0  False        303.0   \n",
       "\n",
       "   FoodCourt  ShoppingMall     Spa  VRDeck               Name  Transported  \\\n",
       "0        0.0           0.0     0.0     0.0    Maham Ofracculy        False   \n",
       "1        9.0          25.0   549.0    44.0       Juanna Vines         True   \n",
       "2     3576.0           0.0  6715.0    49.0      Altark Susent        False   \n",
       "3     1283.0         371.0  3329.0   193.0       Solam Susent        False   \n",
       "4       70.0         151.0   565.0     2.0  Willy Santantines         True   \n",
       "\n",
       "   Deck  Num  Side  Route  \n",
       "0     0    0     0      1  \n",
       "1     1    0     1      4  \n",
       "2     2    0     1      1  \n",
       "3     2    0     1      1  \n",
       "4     1    1     1      4  "
      ]
     },
     "execution_count": 20,
     "metadata": {},
     "output_type": "execute_result"
    }
   ],
   "source": [
    "train.head()"
   ]
  },
  {
   "cell_type": "markdown",
   "id": "76946f2c-e2e9-4599-8603-224880296764",
   "metadata": {
    "papermill": {
     "duration": 0.032017,
     "end_time": "2023-12-15T17:34:15.802763",
     "exception": false,
     "start_time": "2023-12-15T17:34:15.770746",
     "status": "completed"
    },
    "tags": []
   },
   "source": [
    "* Age"
   ]
  },
  {
   "cell_type": "markdown",
   "id": "70e93560-1746-4c0a-8065-67f77cd21ae9",
   "metadata": {
    "papermill": {
     "duration": 0.016002,
     "end_time": "2023-12-15T17:34:15.884748",
     "exception": false,
     "start_time": "2023-12-15T17:34:15.868746",
     "status": "completed"
    },
    "tags": []
   },
   "source": [
    "Заполним пропущенные возраста средним +- среднеквадратичное отклонение случайным образом"
   ]
  },
  {
   "cell_type": "code",
   "execution_count": 21,
   "id": "bcc517a1-fcbc-4ccc-bfb8-484c61f3b176",
   "metadata": {
    "ExecuteTime": {
     "end_time": "2023-12-09T07:27:07.621623900Z",
     "start_time": "2023-12-09T07:27:07.291814800Z"
    },
    "execution": {
     "iopub.execute_input": "2023-12-15T17:34:15.917752Z",
     "iopub.status.busy": "2023-12-15T17:34:15.917752Z",
     "iopub.status.idle": "2023-12-15T17:34:15.996751Z",
     "shell.execute_reply": "2023-12-15T17:34:15.994750Z"
    },
    "papermill": {
     "duration": 0.100004,
     "end_time": "2023-12-15T17:34:16.000751",
     "exception": false,
     "start_time": "2023-12-15T17:34:15.900747",
     "status": "completed"
    },
    "tags": []
   },
   "outputs": [
    {
     "name": "stderr",
     "output_type": "stream",
     "text": [
      "C:\\Users\\draco\\AppData\\Local\\Temp\\ipykernel_1172\\3906624399.py:4: SettingWithCopyWarning: \n",
      "A value is trying to be set on a copy of a slice from a DataFrame\n",
      "\n",
      "See the caveats in the documentation: https://pandas.pydata.org/pandas-docs/stable/user_guide/indexing.html#returning-a-view-versus-a-copy\n",
      "  train['Age'][np.isnan(train['Age'])] = age_null_random_list\n"
     ]
    },
    {
     "data": {
      "text/html": [
       "<div>\n",
       "<style scoped>\n",
       "    .dataframe tbody tr th:only-of-type {\n",
       "        vertical-align: middle;\n",
       "    }\n",
       "\n",
       "    .dataframe tbody tr th {\n",
       "        vertical-align: top;\n",
       "    }\n",
       "\n",
       "    .dataframe thead th {\n",
       "        text-align: right;\n",
       "    }\n",
       "</style>\n",
       "<table border=\"1\" class=\"dataframe\">\n",
       "  <thead>\n",
       "    <tr style=\"text-align: right;\">\n",
       "      <th></th>\n",
       "      <th>PassengerId</th>\n",
       "      <th>HomePlanet</th>\n",
       "      <th>CryoSleep</th>\n",
       "      <th>Destination</th>\n",
       "      <th>Age</th>\n",
       "      <th>VIP</th>\n",
       "      <th>RoomService</th>\n",
       "      <th>FoodCourt</th>\n",
       "      <th>ShoppingMall</th>\n",
       "      <th>Spa</th>\n",
       "      <th>VRDeck</th>\n",
       "      <th>Name</th>\n",
       "      <th>Transported</th>\n",
       "      <th>Deck</th>\n",
       "      <th>Num</th>\n",
       "      <th>Side</th>\n",
       "      <th>Route</th>\n",
       "    </tr>\n",
       "  </thead>\n",
       "  <tbody>\n",
       "    <tr>\n",
       "      <th>0</th>\n",
       "      <td>0001_01</td>\n",
       "      <td>0</td>\n",
       "      <td>0</td>\n",
       "      <td>0</td>\n",
       "      <td>39</td>\n",
       "      <td>False</td>\n",
       "      <td>0.0</td>\n",
       "      <td>0.0</td>\n",
       "      <td>0.0</td>\n",
       "      <td>0.0</td>\n",
       "      <td>0.0</td>\n",
       "      <td>Maham Ofracculy</td>\n",
       "      <td>False</td>\n",
       "      <td>0</td>\n",
       "      <td>0</td>\n",
       "      <td>0</td>\n",
       "      <td>1</td>\n",
       "    </tr>\n",
       "    <tr>\n",
       "      <th>1</th>\n",
       "      <td>0002_01</td>\n",
       "      <td>1</td>\n",
       "      <td>0</td>\n",
       "      <td>0</td>\n",
       "      <td>24</td>\n",
       "      <td>False</td>\n",
       "      <td>109.0</td>\n",
       "      <td>9.0</td>\n",
       "      <td>25.0</td>\n",
       "      <td>549.0</td>\n",
       "      <td>44.0</td>\n",
       "      <td>Juanna Vines</td>\n",
       "      <td>True</td>\n",
       "      <td>1</td>\n",
       "      <td>0</td>\n",
       "      <td>1</td>\n",
       "      <td>4</td>\n",
       "    </tr>\n",
       "    <tr>\n",
       "      <th>2</th>\n",
       "      <td>0003_01</td>\n",
       "      <td>0</td>\n",
       "      <td>0</td>\n",
       "      <td>0</td>\n",
       "      <td>58</td>\n",
       "      <td>True</td>\n",
       "      <td>43.0</td>\n",
       "      <td>3576.0</td>\n",
       "      <td>0.0</td>\n",
       "      <td>6715.0</td>\n",
       "      <td>49.0</td>\n",
       "      <td>Altark Susent</td>\n",
       "      <td>False</td>\n",
       "      <td>2</td>\n",
       "      <td>0</td>\n",
       "      <td>1</td>\n",
       "      <td>1</td>\n",
       "    </tr>\n",
       "    <tr>\n",
       "      <th>3</th>\n",
       "      <td>0003_02</td>\n",
       "      <td>0</td>\n",
       "      <td>0</td>\n",
       "      <td>0</td>\n",
       "      <td>33</td>\n",
       "      <td>False</td>\n",
       "      <td>0.0</td>\n",
       "      <td>1283.0</td>\n",
       "      <td>371.0</td>\n",
       "      <td>3329.0</td>\n",
       "      <td>193.0</td>\n",
       "      <td>Solam Susent</td>\n",
       "      <td>False</td>\n",
       "      <td>2</td>\n",
       "      <td>0</td>\n",
       "      <td>1</td>\n",
       "      <td>1</td>\n",
       "    </tr>\n",
       "    <tr>\n",
       "      <th>4</th>\n",
       "      <td>0004_01</td>\n",
       "      <td>1</td>\n",
       "      <td>0</td>\n",
       "      <td>0</td>\n",
       "      <td>16</td>\n",
       "      <td>False</td>\n",
       "      <td>303.0</td>\n",
       "      <td>70.0</td>\n",
       "      <td>151.0</td>\n",
       "      <td>565.0</td>\n",
       "      <td>2.0</td>\n",
       "      <td>Willy Santantines</td>\n",
       "      <td>True</td>\n",
       "      <td>1</td>\n",
       "      <td>1</td>\n",
       "      <td>1</td>\n",
       "      <td>4</td>\n",
       "    </tr>\n",
       "  </tbody>\n",
       "</table>\n",
       "</div>"
      ],
      "text/plain": [
       "  PassengerId  HomePlanet  CryoSleep  Destination  Age    VIP  RoomService  \\\n",
       "0     0001_01           0          0            0   39  False          0.0   \n",
       "1     0002_01           1          0            0   24  False        109.0   \n",
       "2     0003_01           0          0            0   58   True         43.0   \n",
       "3     0003_02           0          0            0   33  False          0.0   \n",
       "4     0004_01           1          0            0   16  False        303.0   \n",
       "\n",
       "   FoodCourt  ShoppingMall     Spa  VRDeck               Name  Transported  \\\n",
       "0        0.0           0.0     0.0     0.0    Maham Ofracculy        False   \n",
       "1        9.0          25.0   549.0    44.0       Juanna Vines         True   \n",
       "2     3576.0           0.0  6715.0    49.0      Altark Susent        False   \n",
       "3     1283.0         371.0  3329.0   193.0       Solam Susent        False   \n",
       "4       70.0         151.0   565.0     2.0  Willy Santantines         True   \n",
       "\n",
       "   Deck  Num  Side  Route  \n",
       "0     0    0     0      1  \n",
       "1     1    0     1      4  \n",
       "2     2    0     1      1  \n",
       "3     2    0     1      1  \n",
       "4     1    1     1      4  "
      ]
     },
     "execution_count": 21,
     "metadata": {},
     "output_type": "execute_result"
    }
   ],
   "source": [
    "age_avg = train['Age'].mean()\n",
    "age_std = train['Age'].std()\n",
    "age_null_random_list = np.random.randint(age_avg - age_std, age_avg + age_std, size=train['Age'].isnull().sum())\n",
    "train['Age'][np.isnan(train['Age'])] = age_null_random_list\n",
    "train['Age'] = train['Age'].astype(int)\n",
    "train.head()"
   ]
  },
  {
   "cell_type": "markdown",
   "id": "f879f11a-6d32-4dbf-aeec-9844d03fb74f",
   "metadata": {
    "papermill": {
     "duration": 0.026003,
     "end_time": "2023-12-15T17:34:16.058751",
     "exception": false,
     "start_time": "2023-12-15T17:34:16.032748",
     "status": "completed"
    },
    "tags": []
   },
   "source": [
    "Разделим возраст на 5 групп и заменим возраст на номер группы"
   ]
  },
  {
   "cell_type": "code",
   "execution_count": 22,
   "id": "05a8f061-1aef-4a13-9780-536f80c2ae1e",
   "metadata": {
    "ExecuteTime": {
     "end_time": "2023-12-09T07:27:07.760479Z",
     "start_time": "2023-12-09T07:27:07.418497Z"
    },
    "execution": {
     "iopub.execute_input": "2023-12-15T17:34:16.100748Z",
     "iopub.status.busy": "2023-12-15T17:34:16.099753Z",
     "iopub.status.idle": "2023-12-15T17:34:16.130923Z",
     "shell.execute_reply": "2023-12-15T17:34:16.129917Z"
    },
    "papermill": {
     "duration": 0.053172,
     "end_time": "2023-12-15T17:34:16.132919",
     "exception": false,
     "start_time": "2023-12-15T17:34:16.079747",
     "status": "completed"
    },
    "tags": []
   },
   "outputs": [
    {
     "data": {
      "text/html": [
       "<div>\n",
       "<style scoped>\n",
       "    .dataframe tbody tr th:only-of-type {\n",
       "        vertical-align: middle;\n",
       "    }\n",
       "\n",
       "    .dataframe tbody tr th {\n",
       "        vertical-align: top;\n",
       "    }\n",
       "\n",
       "    .dataframe thead th {\n",
       "        text-align: right;\n",
       "    }\n",
       "</style>\n",
       "<table border=\"1\" class=\"dataframe\">\n",
       "  <thead>\n",
       "    <tr style=\"text-align: right;\">\n",
       "      <th></th>\n",
       "      <th>PassengerId</th>\n",
       "      <th>HomePlanet</th>\n",
       "      <th>CryoSleep</th>\n",
       "      <th>Destination</th>\n",
       "      <th>Age</th>\n",
       "      <th>VIP</th>\n",
       "      <th>RoomService</th>\n",
       "      <th>FoodCourt</th>\n",
       "      <th>ShoppingMall</th>\n",
       "      <th>Spa</th>\n",
       "      <th>VRDeck</th>\n",
       "      <th>Name</th>\n",
       "      <th>Transported</th>\n",
       "      <th>Deck</th>\n",
       "      <th>Num</th>\n",
       "      <th>Side</th>\n",
       "      <th>Route</th>\n",
       "    </tr>\n",
       "  </thead>\n",
       "  <tbody>\n",
       "    <tr>\n",
       "      <th>0</th>\n",
       "      <td>0001_01</td>\n",
       "      <td>0</td>\n",
       "      <td>0</td>\n",
       "      <td>0</td>\n",
       "      <td>2</td>\n",
       "      <td>False</td>\n",
       "      <td>0.0</td>\n",
       "      <td>0.0</td>\n",
       "      <td>0.0</td>\n",
       "      <td>0.0</td>\n",
       "      <td>0.0</td>\n",
       "      <td>Maham Ofracculy</td>\n",
       "      <td>False</td>\n",
       "      <td>0</td>\n",
       "      <td>0</td>\n",
       "      <td>0</td>\n",
       "      <td>1</td>\n",
       "    </tr>\n",
       "    <tr>\n",
       "      <th>1</th>\n",
       "      <td>0002_01</td>\n",
       "      <td>1</td>\n",
       "      <td>0</td>\n",
       "      <td>0</td>\n",
       "      <td>1</td>\n",
       "      <td>False</td>\n",
       "      <td>109.0</td>\n",
       "      <td>9.0</td>\n",
       "      <td>25.0</td>\n",
       "      <td>549.0</td>\n",
       "      <td>44.0</td>\n",
       "      <td>Juanna Vines</td>\n",
       "      <td>True</td>\n",
       "      <td>1</td>\n",
       "      <td>0</td>\n",
       "      <td>1</td>\n",
       "      <td>4</td>\n",
       "    </tr>\n",
       "    <tr>\n",
       "      <th>2</th>\n",
       "      <td>0003_01</td>\n",
       "      <td>0</td>\n",
       "      <td>0</td>\n",
       "      <td>0</td>\n",
       "      <td>3</td>\n",
       "      <td>True</td>\n",
       "      <td>43.0</td>\n",
       "      <td>3576.0</td>\n",
       "      <td>0.0</td>\n",
       "      <td>6715.0</td>\n",
       "      <td>49.0</td>\n",
       "      <td>Altark Susent</td>\n",
       "      <td>False</td>\n",
       "      <td>2</td>\n",
       "      <td>0</td>\n",
       "      <td>1</td>\n",
       "      <td>1</td>\n",
       "    </tr>\n",
       "    <tr>\n",
       "      <th>3</th>\n",
       "      <td>0003_02</td>\n",
       "      <td>0</td>\n",
       "      <td>0</td>\n",
       "      <td>0</td>\n",
       "      <td>2</td>\n",
       "      <td>False</td>\n",
       "      <td>0.0</td>\n",
       "      <td>1283.0</td>\n",
       "      <td>371.0</td>\n",
       "      <td>3329.0</td>\n",
       "      <td>193.0</td>\n",
       "      <td>Solam Susent</td>\n",
       "      <td>False</td>\n",
       "      <td>2</td>\n",
       "      <td>0</td>\n",
       "      <td>1</td>\n",
       "      <td>1</td>\n",
       "    </tr>\n",
       "    <tr>\n",
       "      <th>4</th>\n",
       "      <td>0004_01</td>\n",
       "      <td>1</td>\n",
       "      <td>0</td>\n",
       "      <td>0</td>\n",
       "      <td>1</td>\n",
       "      <td>False</td>\n",
       "      <td>303.0</td>\n",
       "      <td>70.0</td>\n",
       "      <td>151.0</td>\n",
       "      <td>565.0</td>\n",
       "      <td>2.0</td>\n",
       "      <td>Willy Santantines</td>\n",
       "      <td>True</td>\n",
       "      <td>1</td>\n",
       "      <td>1</td>\n",
       "      <td>1</td>\n",
       "      <td>4</td>\n",
       "    </tr>\n",
       "  </tbody>\n",
       "</table>\n",
       "</div>"
      ],
      "text/plain": [
       "  PassengerId  HomePlanet  CryoSleep  Destination  Age    VIP  RoomService  \\\n",
       "0     0001_01           0          0            0    2  False          0.0   \n",
       "1     0002_01           1          0            0    1  False        109.0   \n",
       "2     0003_01           0          0            0    3   True         43.0   \n",
       "3     0003_02           0          0            0    2  False          0.0   \n",
       "4     0004_01           1          0            0    1  False        303.0   \n",
       "\n",
       "   FoodCourt  ShoppingMall     Spa  VRDeck               Name  Transported  \\\n",
       "0        0.0           0.0     0.0     0.0    Maham Ofracculy        False   \n",
       "1        9.0          25.0   549.0    44.0       Juanna Vines         True   \n",
       "2     3576.0           0.0  6715.0    49.0      Altark Susent        False   \n",
       "3     1283.0         371.0  3329.0   193.0       Solam Susent        False   \n",
       "4       70.0         151.0   565.0     2.0  Willy Santantines         True   \n",
       "\n",
       "   Deck  Num  Side  Route  \n",
       "0     0    0     0      1  \n",
       "1     1    0     1      4  \n",
       "2     2    0     1      1  \n",
       "3     2    0     1      1  \n",
       "4     1    1     1      4  "
      ]
     },
     "execution_count": 22,
     "metadata": {},
     "output_type": "execute_result"
    }
   ],
   "source": [
    "train['AgeBand'] = pd.cut(train['Age'], 5)\n",
    "train['Age'] = train['AgeBand'].cat.codes\n",
    "train.drop('AgeBand', axis=1, inplace=True)\n",
    "train.head()"
   ]
  },
  {
   "cell_type": "markdown",
   "id": "3ea45ba8-8b08-4110-8301-c6d374ef022d",
   "metadata": {
    "papermill": {
     "duration": 0.019003,
     "end_time": "2023-12-15T17:34:16.167916",
     "exception": false,
     "start_time": "2023-12-15T17:34:16.148913",
     "status": "completed"
    },
    "tags": []
   },
   "source": [
    "* VIP"
   ]
  },
  {
   "cell_type": "code",
   "execution_count": 23,
   "id": "16d177a1-ba33-4ed1-93f9-b8494aef1bac",
   "metadata": {
    "ExecuteTime": {
     "end_time": "2023-12-09T07:27:07.760479Z",
     "start_time": "2023-12-09T07:27:07.621623900Z"
    },
    "execution": {
     "iopub.execute_input": "2023-12-15T17:34:16.214914Z",
     "iopub.status.busy": "2023-12-15T17:34:16.213918Z",
     "iopub.status.idle": "2023-12-15T17:34:16.225305Z",
     "shell.execute_reply": "2023-12-15T17:34:16.223356Z"
    },
    "papermill": {
     "duration": 0.037378,
     "end_time": "2023-12-15T17:34:16.228307",
     "exception": false,
     "start_time": "2023-12-15T17:34:16.190929",
     "status": "completed"
    },
    "tags": []
   },
   "outputs": [
    {
     "data": {
      "text/plain": [
       "VIP\n",
       "False    0.976561\n",
       "True     0.023439\n",
       "Name: proportion, dtype: float64"
      ]
     },
     "execution_count": 23,
     "metadata": {},
     "output_type": "execute_result"
    }
   ],
   "source": [
    "train['VIP'].value_counts(normalize=True)"
   ]
  },
  {
   "cell_type": "markdown",
   "id": "442964cb-26d5-42e7-b8c3-6576a349caff",
   "metadata": {
    "papermill": {
     "duration": 0.023002,
     "end_time": "2023-12-15T17:34:16.274308",
     "exception": false,
     "start_time": "2023-12-15T17:34:16.251306",
     "status": "completed"
    },
    "tags": []
   },
   "source": [
    "97% людей не использовали VIP, так что заполним пропуски значением False"
   ]
  },
  {
   "cell_type": "code",
   "execution_count": 24,
   "id": "f2a45718-988e-4bee-b2fa-edd5c95dd25a",
   "metadata": {
    "ExecuteTime": {
     "end_time": "2023-12-09T07:27:08.084312800Z",
     "start_time": "2023-12-09T07:27:07.646322200Z"
    },
    "execution": {
     "iopub.execute_input": "2023-12-15T17:34:16.327308Z",
     "iopub.status.busy": "2023-12-15T17:34:16.326306Z",
     "iopub.status.idle": "2023-12-15T17:34:16.336900Z",
     "shell.execute_reply": "2023-12-15T17:34:16.335905Z"
    },
    "papermill": {
     "duration": 0.0336,
     "end_time": "2023-12-15T17:34:16.339902",
     "exception": false,
     "start_time": "2023-12-15T17:34:16.306302",
     "status": "completed"
    },
    "tags": []
   },
   "outputs": [],
   "source": [
    "value = train['VIP'].mode().iloc[0]\n",
    "train['VIP'].fillna(value, inplace=True)\n",
    "vip_mapping = {train['VIP'].unique()[0]: 0, train['VIP'].unique()[1]: 1}\n",
    "train['VIP'] = train['VIP'].map(vip_mapping)"
   ]
  },
  {
   "cell_type": "code",
   "execution_count": 25,
   "id": "efd1ee7a-8e6e-411b-9aa4-0bd182908cc2",
   "metadata": {
    "ExecuteTime": {
     "end_time": "2023-12-09T07:27:08.224281Z",
     "start_time": "2023-12-09T07:27:07.702899200Z"
    },
    "execution": {
     "iopub.execute_input": "2023-12-15T17:34:16.377914Z",
     "iopub.status.busy": "2023-12-15T17:34:16.377914Z",
     "iopub.status.idle": "2023-12-15T17:34:16.401999Z",
     "shell.execute_reply": "2023-12-15T17:34:16.401006Z"
    },
    "papermill": {
     "duration": 0.04709,
     "end_time": "2023-12-15T17:34:16.404000",
     "exception": false,
     "start_time": "2023-12-15T17:34:16.356910",
     "status": "completed"
    },
    "tags": []
   },
   "outputs": [
    {
     "data": {
      "text/html": [
       "<div>\n",
       "<style scoped>\n",
       "    .dataframe tbody tr th:only-of-type {\n",
       "        vertical-align: middle;\n",
       "    }\n",
       "\n",
       "    .dataframe tbody tr th {\n",
       "        vertical-align: top;\n",
       "    }\n",
       "\n",
       "    .dataframe thead th {\n",
       "        text-align: right;\n",
       "    }\n",
       "</style>\n",
       "<table border=\"1\" class=\"dataframe\">\n",
       "  <thead>\n",
       "    <tr style=\"text-align: right;\">\n",
       "      <th></th>\n",
       "      <th>PassengerId</th>\n",
       "      <th>HomePlanet</th>\n",
       "      <th>CryoSleep</th>\n",
       "      <th>Destination</th>\n",
       "      <th>Age</th>\n",
       "      <th>VIP</th>\n",
       "      <th>RoomService</th>\n",
       "      <th>FoodCourt</th>\n",
       "      <th>ShoppingMall</th>\n",
       "      <th>Spa</th>\n",
       "      <th>VRDeck</th>\n",
       "      <th>Name</th>\n",
       "      <th>Transported</th>\n",
       "      <th>Deck</th>\n",
       "      <th>Num</th>\n",
       "      <th>Side</th>\n",
       "      <th>Route</th>\n",
       "    </tr>\n",
       "  </thead>\n",
       "  <tbody>\n",
       "    <tr>\n",
       "      <th>0</th>\n",
       "      <td>0001_01</td>\n",
       "      <td>0</td>\n",
       "      <td>0</td>\n",
       "      <td>0</td>\n",
       "      <td>2</td>\n",
       "      <td>0</td>\n",
       "      <td>0.0</td>\n",
       "      <td>0.0</td>\n",
       "      <td>0.0</td>\n",
       "      <td>0.0</td>\n",
       "      <td>0.0</td>\n",
       "      <td>Maham Ofracculy</td>\n",
       "      <td>False</td>\n",
       "      <td>0</td>\n",
       "      <td>0</td>\n",
       "      <td>0</td>\n",
       "      <td>1</td>\n",
       "    </tr>\n",
       "    <tr>\n",
       "      <th>1</th>\n",
       "      <td>0002_01</td>\n",
       "      <td>1</td>\n",
       "      <td>0</td>\n",
       "      <td>0</td>\n",
       "      <td>1</td>\n",
       "      <td>0</td>\n",
       "      <td>109.0</td>\n",
       "      <td>9.0</td>\n",
       "      <td>25.0</td>\n",
       "      <td>549.0</td>\n",
       "      <td>44.0</td>\n",
       "      <td>Juanna Vines</td>\n",
       "      <td>True</td>\n",
       "      <td>1</td>\n",
       "      <td>0</td>\n",
       "      <td>1</td>\n",
       "      <td>4</td>\n",
       "    </tr>\n",
       "    <tr>\n",
       "      <th>2</th>\n",
       "      <td>0003_01</td>\n",
       "      <td>0</td>\n",
       "      <td>0</td>\n",
       "      <td>0</td>\n",
       "      <td>3</td>\n",
       "      <td>1</td>\n",
       "      <td>43.0</td>\n",
       "      <td>3576.0</td>\n",
       "      <td>0.0</td>\n",
       "      <td>6715.0</td>\n",
       "      <td>49.0</td>\n",
       "      <td>Altark Susent</td>\n",
       "      <td>False</td>\n",
       "      <td>2</td>\n",
       "      <td>0</td>\n",
       "      <td>1</td>\n",
       "      <td>1</td>\n",
       "    </tr>\n",
       "    <tr>\n",
       "      <th>3</th>\n",
       "      <td>0003_02</td>\n",
       "      <td>0</td>\n",
       "      <td>0</td>\n",
       "      <td>0</td>\n",
       "      <td>2</td>\n",
       "      <td>0</td>\n",
       "      <td>0.0</td>\n",
       "      <td>1283.0</td>\n",
       "      <td>371.0</td>\n",
       "      <td>3329.0</td>\n",
       "      <td>193.0</td>\n",
       "      <td>Solam Susent</td>\n",
       "      <td>False</td>\n",
       "      <td>2</td>\n",
       "      <td>0</td>\n",
       "      <td>1</td>\n",
       "      <td>1</td>\n",
       "    </tr>\n",
       "    <tr>\n",
       "      <th>4</th>\n",
       "      <td>0004_01</td>\n",
       "      <td>1</td>\n",
       "      <td>0</td>\n",
       "      <td>0</td>\n",
       "      <td>1</td>\n",
       "      <td>0</td>\n",
       "      <td>303.0</td>\n",
       "      <td>70.0</td>\n",
       "      <td>151.0</td>\n",
       "      <td>565.0</td>\n",
       "      <td>2.0</td>\n",
       "      <td>Willy Santantines</td>\n",
       "      <td>True</td>\n",
       "      <td>1</td>\n",
       "      <td>1</td>\n",
       "      <td>1</td>\n",
       "      <td>4</td>\n",
       "    </tr>\n",
       "  </tbody>\n",
       "</table>\n",
       "</div>"
      ],
      "text/plain": [
       "  PassengerId  HomePlanet  CryoSleep  Destination  Age  VIP  RoomService  \\\n",
       "0     0001_01           0          0            0    2    0          0.0   \n",
       "1     0002_01           1          0            0    1    0        109.0   \n",
       "2     0003_01           0          0            0    3    1         43.0   \n",
       "3     0003_02           0          0            0    2    0          0.0   \n",
       "4     0004_01           1          0            0    1    0        303.0   \n",
       "\n",
       "   FoodCourt  ShoppingMall     Spa  VRDeck               Name  Transported  \\\n",
       "0        0.0           0.0     0.0     0.0    Maham Ofracculy        False   \n",
       "1        9.0          25.0   549.0    44.0       Juanna Vines         True   \n",
       "2     3576.0           0.0  6715.0    49.0      Altark Susent        False   \n",
       "3     1283.0         371.0  3329.0   193.0       Solam Susent        False   \n",
       "4       70.0         151.0   565.0     2.0  Willy Santantines         True   \n",
       "\n",
       "   Deck  Num  Side  Route  \n",
       "0     0    0     0      1  \n",
       "1     1    0     1      4  \n",
       "2     2    0     1      1  \n",
       "3     2    0     1      1  \n",
       "4     1    1     1      4  "
      ]
     },
     "execution_count": 25,
     "metadata": {},
     "output_type": "execute_result"
    }
   ],
   "source": [
    "train.head()"
   ]
  },
  {
   "cell_type": "markdown",
   "id": "80580604-4cc9-40fd-91f2-b863cde65f98",
   "metadata": {
    "papermill": {
     "duration": 0.021998,
     "end_time": "2023-12-15T17:34:16.442003",
     "exception": false,
     "start_time": "2023-12-15T17:34:16.420005",
     "status": "completed"
    },
    "tags": []
   },
   "source": [
    "* RoomService, FoodCourt, ShoppingMall, Spa, VRDeck"
   ]
  },
  {
   "cell_type": "markdown",
   "id": "6664c122-305e-48ab-b24f-6ea7f12a8ad2",
   "metadata": {
    "papermill": {
     "duration": 0.020997,
     "end_time": "2023-12-15T17:34:16.485030",
     "exception": false,
     "start_time": "2023-12-15T17:34:16.464033",
     "status": "completed"
    },
    "tags": []
   },
   "source": [
    "Заполним их модами"
   ]
  },
  {
   "cell_type": "code",
   "execution_count": 26,
   "id": "0f8225a1-bf8e-4b28-82ba-5eade13e3bed",
   "metadata": {
    "ExecuteTime": {
     "end_time": "2023-12-09T07:27:08.227016700Z",
     "start_time": "2023-12-09T07:27:07.800319900Z"
    },
    "execution": {
     "iopub.execute_input": "2023-12-15T17:34:16.526029Z",
     "iopub.status.busy": "2023-12-15T17:34:16.525029Z",
     "iopub.status.idle": "2023-12-15T17:34:16.536029Z",
     "shell.execute_reply": "2023-12-15T17:34:16.535037Z"
    },
    "papermill": {
     "duration": 0.033996,
     "end_time": "2023-12-15T17:34:16.538028",
     "exception": false,
     "start_time": "2023-12-15T17:34:16.504032",
     "status": "completed"
    },
    "tags": []
   },
   "outputs": [],
   "source": [
    "for col in ['RoomService', 'FoodCourt', 'ShoppingMall', 'Spa', 'VRDeck']:\n",
    "    mode_value = train[col].mode().iloc[0]\n",
    "    train[col].fillna(mode_value, inplace=True)"
   ]
  },
  {
   "cell_type": "code",
   "execution_count": 27,
   "id": "59f7c257-189d-4549-9da7-cc7f65e31a1e",
   "metadata": {
    "ExecuteTime": {
     "end_time": "2023-12-09T07:27:08.385249700Z",
     "start_time": "2023-12-09T07:27:07.896679400Z"
    },
    "execution": {
     "iopub.execute_input": "2023-12-15T17:34:16.582034Z",
     "iopub.status.busy": "2023-12-15T17:34:16.581029Z",
     "iopub.status.idle": "2023-12-15T17:34:16.605757Z",
     "shell.execute_reply": "2023-12-15T17:34:16.604233Z"
    },
    "papermill": {
     "duration": 0.050724,
     "end_time": "2023-12-15T17:34:16.608753",
     "exception": false,
     "start_time": "2023-12-15T17:34:16.558029",
     "status": "completed"
    },
    "tags": []
   },
   "outputs": [
    {
     "data": {
      "text/html": [
       "<div>\n",
       "<style scoped>\n",
       "    .dataframe tbody tr th:only-of-type {\n",
       "        vertical-align: middle;\n",
       "    }\n",
       "\n",
       "    .dataframe tbody tr th {\n",
       "        vertical-align: top;\n",
       "    }\n",
       "\n",
       "    .dataframe thead th {\n",
       "        text-align: right;\n",
       "    }\n",
       "</style>\n",
       "<table border=\"1\" class=\"dataframe\">\n",
       "  <thead>\n",
       "    <tr style=\"text-align: right;\">\n",
       "      <th></th>\n",
       "      <th>PassengerId</th>\n",
       "      <th>HomePlanet</th>\n",
       "      <th>CryoSleep</th>\n",
       "      <th>Destination</th>\n",
       "      <th>Age</th>\n",
       "      <th>VIP</th>\n",
       "      <th>RoomService</th>\n",
       "      <th>FoodCourt</th>\n",
       "      <th>ShoppingMall</th>\n",
       "      <th>Spa</th>\n",
       "      <th>VRDeck</th>\n",
       "      <th>Name</th>\n",
       "      <th>Transported</th>\n",
       "      <th>Deck</th>\n",
       "      <th>Num</th>\n",
       "      <th>Side</th>\n",
       "      <th>Route</th>\n",
       "    </tr>\n",
       "  </thead>\n",
       "  <tbody>\n",
       "    <tr>\n",
       "      <th>0</th>\n",
       "      <td>0001_01</td>\n",
       "      <td>0</td>\n",
       "      <td>0</td>\n",
       "      <td>0</td>\n",
       "      <td>2</td>\n",
       "      <td>0</td>\n",
       "      <td>0.0</td>\n",
       "      <td>0.0</td>\n",
       "      <td>0.0</td>\n",
       "      <td>0.0</td>\n",
       "      <td>0.0</td>\n",
       "      <td>Maham Ofracculy</td>\n",
       "      <td>False</td>\n",
       "      <td>0</td>\n",
       "      <td>0</td>\n",
       "      <td>0</td>\n",
       "      <td>1</td>\n",
       "    </tr>\n",
       "    <tr>\n",
       "      <th>1</th>\n",
       "      <td>0002_01</td>\n",
       "      <td>1</td>\n",
       "      <td>0</td>\n",
       "      <td>0</td>\n",
       "      <td>1</td>\n",
       "      <td>0</td>\n",
       "      <td>109.0</td>\n",
       "      <td>9.0</td>\n",
       "      <td>25.0</td>\n",
       "      <td>549.0</td>\n",
       "      <td>44.0</td>\n",
       "      <td>Juanna Vines</td>\n",
       "      <td>True</td>\n",
       "      <td>1</td>\n",
       "      <td>0</td>\n",
       "      <td>1</td>\n",
       "      <td>4</td>\n",
       "    </tr>\n",
       "    <tr>\n",
       "      <th>2</th>\n",
       "      <td>0003_01</td>\n",
       "      <td>0</td>\n",
       "      <td>0</td>\n",
       "      <td>0</td>\n",
       "      <td>3</td>\n",
       "      <td>1</td>\n",
       "      <td>43.0</td>\n",
       "      <td>3576.0</td>\n",
       "      <td>0.0</td>\n",
       "      <td>6715.0</td>\n",
       "      <td>49.0</td>\n",
       "      <td>Altark Susent</td>\n",
       "      <td>False</td>\n",
       "      <td>2</td>\n",
       "      <td>0</td>\n",
       "      <td>1</td>\n",
       "      <td>1</td>\n",
       "    </tr>\n",
       "    <tr>\n",
       "      <th>3</th>\n",
       "      <td>0003_02</td>\n",
       "      <td>0</td>\n",
       "      <td>0</td>\n",
       "      <td>0</td>\n",
       "      <td>2</td>\n",
       "      <td>0</td>\n",
       "      <td>0.0</td>\n",
       "      <td>1283.0</td>\n",
       "      <td>371.0</td>\n",
       "      <td>3329.0</td>\n",
       "      <td>193.0</td>\n",
       "      <td>Solam Susent</td>\n",
       "      <td>False</td>\n",
       "      <td>2</td>\n",
       "      <td>0</td>\n",
       "      <td>1</td>\n",
       "      <td>1</td>\n",
       "    </tr>\n",
       "    <tr>\n",
       "      <th>4</th>\n",
       "      <td>0004_01</td>\n",
       "      <td>1</td>\n",
       "      <td>0</td>\n",
       "      <td>0</td>\n",
       "      <td>1</td>\n",
       "      <td>0</td>\n",
       "      <td>303.0</td>\n",
       "      <td>70.0</td>\n",
       "      <td>151.0</td>\n",
       "      <td>565.0</td>\n",
       "      <td>2.0</td>\n",
       "      <td>Willy Santantines</td>\n",
       "      <td>True</td>\n",
       "      <td>1</td>\n",
       "      <td>1</td>\n",
       "      <td>1</td>\n",
       "      <td>4</td>\n",
       "    </tr>\n",
       "  </tbody>\n",
       "</table>\n",
       "</div>"
      ],
      "text/plain": [
       "  PassengerId  HomePlanet  CryoSleep  Destination  Age  VIP  RoomService  \\\n",
       "0     0001_01           0          0            0    2    0          0.0   \n",
       "1     0002_01           1          0            0    1    0        109.0   \n",
       "2     0003_01           0          0            0    3    1         43.0   \n",
       "3     0003_02           0          0            0    2    0          0.0   \n",
       "4     0004_01           1          0            0    1    0        303.0   \n",
       "\n",
       "   FoodCourt  ShoppingMall     Spa  VRDeck               Name  Transported  \\\n",
       "0        0.0           0.0     0.0     0.0    Maham Ofracculy        False   \n",
       "1        9.0          25.0   549.0    44.0       Juanna Vines         True   \n",
       "2     3576.0           0.0  6715.0    49.0      Altark Susent        False   \n",
       "3     1283.0         371.0  3329.0   193.0       Solam Susent        False   \n",
       "4       70.0         151.0   565.0     2.0  Willy Santantines         True   \n",
       "\n",
       "   Deck  Num  Side  Route  \n",
       "0     0    0     0      1  \n",
       "1     1    0     1      4  \n",
       "2     2    0     1      1  \n",
       "3     2    0     1      1  \n",
       "4     1    1     1      4  "
      ]
     },
     "execution_count": 27,
     "metadata": {},
     "output_type": "execute_result"
    }
   ],
   "source": [
    "train.head()"
   ]
  },
  {
   "cell_type": "markdown",
   "id": "58fbbc66-d0f9-496e-add6-a67c8fc80c0c",
   "metadata": {
    "papermill": {
     "duration": 0.021811,
     "end_time": "2023-12-15T17:34:16.668563",
     "exception": false,
     "start_time": "2023-12-15T17:34:16.646752",
     "status": "completed"
    },
    "tags": []
   },
   "source": [
    "можно разбить их на группы и на основе группы разбить людей на классы"
   ]
  },
  {
   "cell_type": "code",
   "execution_count": 28,
   "id": "3c408492-a5dd-47c4-8160-8494ba372af5",
   "metadata": {
    "ExecuteTime": {
     "end_time": "2023-12-09T07:27:08.432238600Z",
     "start_time": "2023-12-09T07:27:07.984010Z"
    },
    "execution": {
     "iopub.execute_input": "2023-12-15T17:34:16.714575Z",
     "iopub.status.busy": "2023-12-15T17:34:16.713580Z",
     "iopub.status.idle": "2023-12-15T17:34:16.743157Z",
     "shell.execute_reply": "2023-12-15T17:34:16.742155Z"
    },
    "papermill": {
     "duration": 0.059539,
     "end_time": "2023-12-15T17:34:16.746154",
     "exception": false,
     "start_time": "2023-12-15T17:34:16.686615",
     "status": "completed"
    },
    "tags": []
   },
   "outputs": [],
   "source": [
    "for col in ['RoomService', 'FoodCourt', 'ShoppingMall', 'Spa', 'VRDeck']:\n",
    "    bins = pd.cut(train[col], bins=[-np.inf, 0, 1, 2, 5, np.inf])\n",
    "    train[col] = pd.cut(train[col], bins=[-np.inf, 0, 1, 2, 5, np.inf]).cat.codes"
   ]
  },
  {
   "cell_type": "code",
   "execution_count": 29,
   "id": "93055199-d2b1-41d5-a03e-81eb49077b02",
   "metadata": {
    "ExecuteTime": {
     "end_time": "2023-12-09T07:27:08.540449300Z",
     "start_time": "2023-12-09T07:27:08.077959Z"
    },
    "execution": {
     "iopub.execute_input": "2023-12-15T17:34:16.823674Z",
     "iopub.status.busy": "2023-12-15T17:34:16.822673Z",
     "iopub.status.idle": "2023-12-15T17:34:16.851799Z",
     "shell.execute_reply": "2023-12-15T17:34:16.850804Z"
    },
    "papermill": {
     "duration": 0.077124,
     "end_time": "2023-12-15T17:34:16.856799",
     "exception": false,
     "start_time": "2023-12-15T17:34:16.779675",
     "status": "completed"
    },
    "tags": []
   },
   "outputs": [
    {
     "data": {
      "text/html": [
       "<div>\n",
       "<style scoped>\n",
       "    .dataframe tbody tr th:only-of-type {\n",
       "        vertical-align: middle;\n",
       "    }\n",
       "\n",
       "    .dataframe tbody tr th {\n",
       "        vertical-align: top;\n",
       "    }\n",
       "\n",
       "    .dataframe thead th {\n",
       "        text-align: right;\n",
       "    }\n",
       "</style>\n",
       "<table border=\"1\" class=\"dataframe\">\n",
       "  <thead>\n",
       "    <tr style=\"text-align: right;\">\n",
       "      <th></th>\n",
       "      <th>PassengerId</th>\n",
       "      <th>HomePlanet</th>\n",
       "      <th>CryoSleep</th>\n",
       "      <th>Destination</th>\n",
       "      <th>Age</th>\n",
       "      <th>VIP</th>\n",
       "      <th>RoomService</th>\n",
       "      <th>FoodCourt</th>\n",
       "      <th>ShoppingMall</th>\n",
       "      <th>Spa</th>\n",
       "      <th>VRDeck</th>\n",
       "      <th>Name</th>\n",
       "      <th>Transported</th>\n",
       "      <th>Deck</th>\n",
       "      <th>Num</th>\n",
       "      <th>Side</th>\n",
       "      <th>Route</th>\n",
       "    </tr>\n",
       "  </thead>\n",
       "  <tbody>\n",
       "    <tr>\n",
       "      <th>0</th>\n",
       "      <td>0001_01</td>\n",
       "      <td>0</td>\n",
       "      <td>0</td>\n",
       "      <td>0</td>\n",
       "      <td>2</td>\n",
       "      <td>0</td>\n",
       "      <td>0</td>\n",
       "      <td>0</td>\n",
       "      <td>0</td>\n",
       "      <td>0</td>\n",
       "      <td>0</td>\n",
       "      <td>Maham Ofracculy</td>\n",
       "      <td>False</td>\n",
       "      <td>0</td>\n",
       "      <td>0</td>\n",
       "      <td>0</td>\n",
       "      <td>1</td>\n",
       "    </tr>\n",
       "    <tr>\n",
       "      <th>1</th>\n",
       "      <td>0002_01</td>\n",
       "      <td>1</td>\n",
       "      <td>0</td>\n",
       "      <td>0</td>\n",
       "      <td>1</td>\n",
       "      <td>0</td>\n",
       "      <td>4</td>\n",
       "      <td>4</td>\n",
       "      <td>4</td>\n",
       "      <td>4</td>\n",
       "      <td>4</td>\n",
       "      <td>Juanna Vines</td>\n",
       "      <td>True</td>\n",
       "      <td>1</td>\n",
       "      <td>0</td>\n",
       "      <td>1</td>\n",
       "      <td>4</td>\n",
       "    </tr>\n",
       "    <tr>\n",
       "      <th>2</th>\n",
       "      <td>0003_01</td>\n",
       "      <td>0</td>\n",
       "      <td>0</td>\n",
       "      <td>0</td>\n",
       "      <td>3</td>\n",
       "      <td>1</td>\n",
       "      <td>4</td>\n",
       "      <td>4</td>\n",
       "      <td>0</td>\n",
       "      <td>4</td>\n",
       "      <td>4</td>\n",
       "      <td>Altark Susent</td>\n",
       "      <td>False</td>\n",
       "      <td>2</td>\n",
       "      <td>0</td>\n",
       "      <td>1</td>\n",
       "      <td>1</td>\n",
       "    </tr>\n",
       "    <tr>\n",
       "      <th>3</th>\n",
       "      <td>0003_02</td>\n",
       "      <td>0</td>\n",
       "      <td>0</td>\n",
       "      <td>0</td>\n",
       "      <td>2</td>\n",
       "      <td>0</td>\n",
       "      <td>0</td>\n",
       "      <td>4</td>\n",
       "      <td>4</td>\n",
       "      <td>4</td>\n",
       "      <td>4</td>\n",
       "      <td>Solam Susent</td>\n",
       "      <td>False</td>\n",
       "      <td>2</td>\n",
       "      <td>0</td>\n",
       "      <td>1</td>\n",
       "      <td>1</td>\n",
       "    </tr>\n",
       "    <tr>\n",
       "      <th>4</th>\n",
       "      <td>0004_01</td>\n",
       "      <td>1</td>\n",
       "      <td>0</td>\n",
       "      <td>0</td>\n",
       "      <td>1</td>\n",
       "      <td>0</td>\n",
       "      <td>4</td>\n",
       "      <td>4</td>\n",
       "      <td>4</td>\n",
       "      <td>4</td>\n",
       "      <td>2</td>\n",
       "      <td>Willy Santantines</td>\n",
       "      <td>True</td>\n",
       "      <td>1</td>\n",
       "      <td>1</td>\n",
       "      <td>1</td>\n",
       "      <td>4</td>\n",
       "    </tr>\n",
       "  </tbody>\n",
       "</table>\n",
       "</div>"
      ],
      "text/plain": [
       "  PassengerId  HomePlanet  CryoSleep  Destination  Age  VIP  RoomService  \\\n",
       "0     0001_01           0          0            0    2    0            0   \n",
       "1     0002_01           1          0            0    1    0            4   \n",
       "2     0003_01           0          0            0    3    1            4   \n",
       "3     0003_02           0          0            0    2    0            0   \n",
       "4     0004_01           1          0            0    1    0            4   \n",
       "\n",
       "   FoodCourt  ShoppingMall  Spa  VRDeck               Name  Transported  Deck  \\\n",
       "0          0             0    0       0    Maham Ofracculy        False     0   \n",
       "1          4             4    4       4       Juanna Vines         True     1   \n",
       "2          4             0    4       4      Altark Susent        False     2   \n",
       "3          4             4    4       4       Solam Susent        False     2   \n",
       "4          4             4    4       2  Willy Santantines         True     1   \n",
       "\n",
       "   Num  Side  Route  \n",
       "0    0     0      1  \n",
       "1    0     1      4  \n",
       "2    0     1      1  \n",
       "3    0     1      1  \n",
       "4    1     1      4  "
      ]
     },
     "execution_count": 29,
     "metadata": {},
     "output_type": "execute_result"
    }
   ],
   "source": [
    "train.head()"
   ]
  },
  {
   "cell_type": "markdown",
   "id": "111176a0-38f5-46f1-83ae-50de57f03b89",
   "metadata": {
    "papermill": {
     "duration": 0.140004,
     "end_time": "2023-12-15T17:34:17.038801",
     "exception": false,
     "start_time": "2023-12-15T17:34:16.898797",
     "status": "completed"
    },
    "tags": []
   },
   "source": [
    "Определим \"соц уровень\" на основе столбцов 'RoomService', 'FoodCourt', 'ShoppingMall', 'Spa', 'VRDeck'"
   ]
  },
  {
   "cell_type": "code",
   "execution_count": 30,
   "id": "6e73fe15-65ae-494f-964b-27039a65eb0a",
   "metadata": {
    "ExecuteTime": {
     "end_time": "2023-12-09T07:27:48.280716400Z",
     "start_time": "2023-12-09T07:27:08.162976Z"
    },
    "execution": {
     "iopub.execute_input": "2023-12-15T17:34:17.167801Z",
     "iopub.status.busy": "2023-12-15T17:34:17.166799Z",
     "iopub.status.idle": "2023-12-15T17:34:21.053950Z",
     "shell.execute_reply": "2023-12-15T17:34:21.052954Z"
    },
    "papermill": {
     "duration": 3.949148,
     "end_time": "2023-12-15T17:34:21.055947",
     "exception": false,
     "start_time": "2023-12-15T17:34:17.106799",
     "status": "completed"
    },
    "tags": []
   },
   "outputs": [
    {
     "data": {
      "text/html": [
       "<div>\n",
       "<style scoped>\n",
       "    .dataframe tbody tr th:only-of-type {\n",
       "        vertical-align: middle;\n",
       "    }\n",
       "\n",
       "    .dataframe tbody tr th {\n",
       "        vertical-align: top;\n",
       "    }\n",
       "\n",
       "    .dataframe thead th {\n",
       "        text-align: right;\n",
       "    }\n",
       "</style>\n",
       "<table border=\"1\" class=\"dataframe\">\n",
       "  <thead>\n",
       "    <tr style=\"text-align: right;\">\n",
       "      <th></th>\n",
       "      <th>PassengerId</th>\n",
       "      <th>HomePlanet</th>\n",
       "      <th>CryoSleep</th>\n",
       "      <th>Destination</th>\n",
       "      <th>Age</th>\n",
       "      <th>VIP</th>\n",
       "      <th>RoomService</th>\n",
       "      <th>FoodCourt</th>\n",
       "      <th>ShoppingMall</th>\n",
       "      <th>Spa</th>\n",
       "      <th>VRDeck</th>\n",
       "      <th>Name</th>\n",
       "      <th>Transported</th>\n",
       "      <th>Deck</th>\n",
       "      <th>Num</th>\n",
       "      <th>Side</th>\n",
       "      <th>Route</th>\n",
       "      <th>SocialLevel</th>\n",
       "    </tr>\n",
       "  </thead>\n",
       "  <tbody>\n",
       "    <tr>\n",
       "      <th>0</th>\n",
       "      <td>0001_01</td>\n",
       "      <td>0</td>\n",
       "      <td>0</td>\n",
       "      <td>0</td>\n",
       "      <td>2</td>\n",
       "      <td>0</td>\n",
       "      <td>0</td>\n",
       "      <td>0</td>\n",
       "      <td>0</td>\n",
       "      <td>0</td>\n",
       "      <td>0</td>\n",
       "      <td>Maham Ofracculy</td>\n",
       "      <td>False</td>\n",
       "      <td>0</td>\n",
       "      <td>0</td>\n",
       "      <td>0</td>\n",
       "      <td>1</td>\n",
       "      <td>0</td>\n",
       "    </tr>\n",
       "    <tr>\n",
       "      <th>1</th>\n",
       "      <td>0002_01</td>\n",
       "      <td>1</td>\n",
       "      <td>0</td>\n",
       "      <td>0</td>\n",
       "      <td>1</td>\n",
       "      <td>0</td>\n",
       "      <td>4</td>\n",
       "      <td>4</td>\n",
       "      <td>4</td>\n",
       "      <td>4</td>\n",
       "      <td>4</td>\n",
       "      <td>Juanna Vines</td>\n",
       "      <td>True</td>\n",
       "      <td>1</td>\n",
       "      <td>0</td>\n",
       "      <td>1</td>\n",
       "      <td>4</td>\n",
       "      <td>4</td>\n",
       "    </tr>\n",
       "    <tr>\n",
       "      <th>2</th>\n",
       "      <td>0003_01</td>\n",
       "      <td>0</td>\n",
       "      <td>0</td>\n",
       "      <td>0</td>\n",
       "      <td>3</td>\n",
       "      <td>1</td>\n",
       "      <td>4</td>\n",
       "      <td>4</td>\n",
       "      <td>0</td>\n",
       "      <td>4</td>\n",
       "      <td>4</td>\n",
       "      <td>Altark Susent</td>\n",
       "      <td>False</td>\n",
       "      <td>2</td>\n",
       "      <td>0</td>\n",
       "      <td>1</td>\n",
       "      <td>1</td>\n",
       "      <td>4</td>\n",
       "    </tr>\n",
       "    <tr>\n",
       "      <th>3</th>\n",
       "      <td>0003_02</td>\n",
       "      <td>0</td>\n",
       "      <td>0</td>\n",
       "      <td>0</td>\n",
       "      <td>2</td>\n",
       "      <td>0</td>\n",
       "      <td>0</td>\n",
       "      <td>4</td>\n",
       "      <td>4</td>\n",
       "      <td>4</td>\n",
       "      <td>4</td>\n",
       "      <td>Solam Susent</td>\n",
       "      <td>False</td>\n",
       "      <td>2</td>\n",
       "      <td>0</td>\n",
       "      <td>1</td>\n",
       "      <td>1</td>\n",
       "      <td>4</td>\n",
       "    </tr>\n",
       "    <tr>\n",
       "      <th>4</th>\n",
       "      <td>0004_01</td>\n",
       "      <td>1</td>\n",
       "      <td>0</td>\n",
       "      <td>0</td>\n",
       "      <td>1</td>\n",
       "      <td>0</td>\n",
       "      <td>4</td>\n",
       "      <td>4</td>\n",
       "      <td>4</td>\n",
       "      <td>4</td>\n",
       "      <td>2</td>\n",
       "      <td>Willy Santantines</td>\n",
       "      <td>True</td>\n",
       "      <td>1</td>\n",
       "      <td>1</td>\n",
       "      <td>1</td>\n",
       "      <td>4</td>\n",
       "      <td>4</td>\n",
       "    </tr>\n",
       "  </tbody>\n",
       "</table>\n",
       "</div>"
      ],
      "text/plain": [
       "  PassengerId  HomePlanet  CryoSleep  Destination  Age  VIP  RoomService  \\\n",
       "0     0001_01           0          0            0    2    0            0   \n",
       "1     0002_01           1          0            0    1    0            4   \n",
       "2     0003_01           0          0            0    3    1            4   \n",
       "3     0003_02           0          0            0    2    0            0   \n",
       "4     0004_01           1          0            0    1    0            4   \n",
       "\n",
       "   FoodCourt  ShoppingMall  Spa  VRDeck               Name  Transported  Deck  \\\n",
       "0          0             0    0       0    Maham Ofracculy        False     0   \n",
       "1          4             4    4       4       Juanna Vines         True     1   \n",
       "2          4             0    4       4      Altark Susent        False     2   \n",
       "3          4             4    4       4       Solam Susent        False     2   \n",
       "4          4             4    4       2  Willy Santantines         True     1   \n",
       "\n",
       "   Num  Side  Route  SocialLevel  \n",
       "0    0     0      1            0  \n",
       "1    0     1      4            4  \n",
       "2    0     1      1            4  \n",
       "3    0     1      1            4  \n",
       "4    1     1      4            4  "
      ]
     },
     "execution_count": 30,
     "metadata": {},
     "output_type": "execute_result"
    }
   ],
   "source": [
    "train['SocialLevel'] = train[['RoomService', 'FoodCourt', 'ShoppingMall', 'Spa', 'VRDeck']].mode(axis=1).iloc[:, 0]\n",
    "train['SocialLevel'] = train['SocialLevel'].astype(int)\n",
    "train.head()"
   ]
  },
  {
   "cell_type": "markdown",
   "id": "be137ae0-6d46-4347-a0d8-63d991306412",
   "metadata": {
    "papermill": {
     "duration": 0.015965,
     "end_time": "2023-12-15T17:34:21.087943",
     "exception": false,
     "start_time": "2023-12-15T17:34:21.071978",
     "status": "completed"
    },
    "tags": []
   },
   "source": [
    "* Name"
   ]
  },
  {
   "cell_type": "markdown",
   "id": "1529ff2d-533c-4485-800e-691a3643fd12",
   "metadata": {
    "papermill": {
     "duration": 0.016497,
     "end_time": "2023-12-15T17:34:21.121443",
     "exception": false,
     "start_time": "2023-12-15T17:34:21.104946",
     "status": "completed"
    },
    "tags": []
   },
   "source": [
    "Удалим столбец Name"
   ]
  },
  {
   "cell_type": "code",
   "execution_count": 31,
   "id": "8c95dbfa-6c48-44c8-89fa-b8cd924ccc7e",
   "metadata": {
    "ExecuteTime": {
     "end_time": "2023-12-09T07:27:48.401616700Z",
     "start_time": "2023-12-09T07:27:48.249964Z"
    },
    "execution": {
     "iopub.execute_input": "2023-12-15T17:34:21.155458Z",
     "iopub.status.busy": "2023-12-15T17:34:21.154454Z",
     "iopub.status.idle": "2023-12-15T17:34:21.169207Z",
     "shell.execute_reply": "2023-12-15T17:34:21.169207Z"
    },
    "papermill": {
     "duration": 0.03275,
     "end_time": "2023-12-15T17:34:21.171242",
     "exception": false,
     "start_time": "2023-12-15T17:34:21.138492",
     "status": "completed"
    },
    "tags": []
   },
   "outputs": [
    {
     "data": {
      "text/html": [
       "<div>\n",
       "<style scoped>\n",
       "    .dataframe tbody tr th:only-of-type {\n",
       "        vertical-align: middle;\n",
       "    }\n",
       "\n",
       "    .dataframe tbody tr th {\n",
       "        vertical-align: top;\n",
       "    }\n",
       "\n",
       "    .dataframe thead th {\n",
       "        text-align: right;\n",
       "    }\n",
       "</style>\n",
       "<table border=\"1\" class=\"dataframe\">\n",
       "  <thead>\n",
       "    <tr style=\"text-align: right;\">\n",
       "      <th></th>\n",
       "      <th>PassengerId</th>\n",
       "      <th>HomePlanet</th>\n",
       "      <th>CryoSleep</th>\n",
       "      <th>Destination</th>\n",
       "      <th>Age</th>\n",
       "      <th>VIP</th>\n",
       "      <th>RoomService</th>\n",
       "      <th>FoodCourt</th>\n",
       "      <th>ShoppingMall</th>\n",
       "      <th>Spa</th>\n",
       "      <th>VRDeck</th>\n",
       "      <th>Transported</th>\n",
       "      <th>Deck</th>\n",
       "      <th>Num</th>\n",
       "      <th>Side</th>\n",
       "      <th>Route</th>\n",
       "      <th>SocialLevel</th>\n",
       "    </tr>\n",
       "  </thead>\n",
       "  <tbody>\n",
       "    <tr>\n",
       "      <th>0</th>\n",
       "      <td>0001_01</td>\n",
       "      <td>0</td>\n",
       "      <td>0</td>\n",
       "      <td>0</td>\n",
       "      <td>2</td>\n",
       "      <td>0</td>\n",
       "      <td>0</td>\n",
       "      <td>0</td>\n",
       "      <td>0</td>\n",
       "      <td>0</td>\n",
       "      <td>0</td>\n",
       "      <td>False</td>\n",
       "      <td>0</td>\n",
       "      <td>0</td>\n",
       "      <td>0</td>\n",
       "      <td>1</td>\n",
       "      <td>0</td>\n",
       "    </tr>\n",
       "    <tr>\n",
       "      <th>1</th>\n",
       "      <td>0002_01</td>\n",
       "      <td>1</td>\n",
       "      <td>0</td>\n",
       "      <td>0</td>\n",
       "      <td>1</td>\n",
       "      <td>0</td>\n",
       "      <td>4</td>\n",
       "      <td>4</td>\n",
       "      <td>4</td>\n",
       "      <td>4</td>\n",
       "      <td>4</td>\n",
       "      <td>True</td>\n",
       "      <td>1</td>\n",
       "      <td>0</td>\n",
       "      <td>1</td>\n",
       "      <td>4</td>\n",
       "      <td>4</td>\n",
       "    </tr>\n",
       "    <tr>\n",
       "      <th>2</th>\n",
       "      <td>0003_01</td>\n",
       "      <td>0</td>\n",
       "      <td>0</td>\n",
       "      <td>0</td>\n",
       "      <td>3</td>\n",
       "      <td>1</td>\n",
       "      <td>4</td>\n",
       "      <td>4</td>\n",
       "      <td>0</td>\n",
       "      <td>4</td>\n",
       "      <td>4</td>\n",
       "      <td>False</td>\n",
       "      <td>2</td>\n",
       "      <td>0</td>\n",
       "      <td>1</td>\n",
       "      <td>1</td>\n",
       "      <td>4</td>\n",
       "    </tr>\n",
       "    <tr>\n",
       "      <th>3</th>\n",
       "      <td>0003_02</td>\n",
       "      <td>0</td>\n",
       "      <td>0</td>\n",
       "      <td>0</td>\n",
       "      <td>2</td>\n",
       "      <td>0</td>\n",
       "      <td>0</td>\n",
       "      <td>4</td>\n",
       "      <td>4</td>\n",
       "      <td>4</td>\n",
       "      <td>4</td>\n",
       "      <td>False</td>\n",
       "      <td>2</td>\n",
       "      <td>0</td>\n",
       "      <td>1</td>\n",
       "      <td>1</td>\n",
       "      <td>4</td>\n",
       "    </tr>\n",
       "    <tr>\n",
       "      <th>4</th>\n",
       "      <td>0004_01</td>\n",
       "      <td>1</td>\n",
       "      <td>0</td>\n",
       "      <td>0</td>\n",
       "      <td>1</td>\n",
       "      <td>0</td>\n",
       "      <td>4</td>\n",
       "      <td>4</td>\n",
       "      <td>4</td>\n",
       "      <td>4</td>\n",
       "      <td>2</td>\n",
       "      <td>True</td>\n",
       "      <td>1</td>\n",
       "      <td>1</td>\n",
       "      <td>1</td>\n",
       "      <td>4</td>\n",
       "      <td>4</td>\n",
       "    </tr>\n",
       "  </tbody>\n",
       "</table>\n",
       "</div>"
      ],
      "text/plain": [
       "  PassengerId  HomePlanet  CryoSleep  Destination  Age  VIP  RoomService  \\\n",
       "0     0001_01           0          0            0    2    0            0   \n",
       "1     0002_01           1          0            0    1    0            4   \n",
       "2     0003_01           0          0            0    3    1            4   \n",
       "3     0003_02           0          0            0    2    0            0   \n",
       "4     0004_01           1          0            0    1    0            4   \n",
       "\n",
       "   FoodCourt  ShoppingMall  Spa  VRDeck  Transported  Deck  Num  Side  Route  \\\n",
       "0          0             0    0       0        False     0    0     0      1   \n",
       "1          4             4    4       4         True     1    0     1      4   \n",
       "2          4             0    4       4        False     2    0     1      1   \n",
       "3          4             4    4       4        False     2    0     1      1   \n",
       "4          4             4    4       2         True     1    1     1      4   \n",
       "\n",
       "   SocialLevel  \n",
       "0            0  \n",
       "1            4  \n",
       "2            4  \n",
       "3            4  \n",
       "4            4  "
      ]
     },
     "execution_count": 31,
     "metadata": {},
     "output_type": "execute_result"
    }
   ],
   "source": [
    "train = train.drop('Name', axis=1)\n",
    "train.head()"
   ]
  },
  {
   "cell_type": "markdown",
   "id": "5e9ee5c9-d669-4b22-8296-18513a50d8b3",
   "metadata": {
    "papermill": {
     "duration": 0.015958,
     "end_time": "2023-12-15T17:34:21.204241",
     "exception": false,
     "start_time": "2023-12-15T17:34:21.188283",
     "status": "completed"
    },
    "tags": []
   },
   "source": [
    "Заменим ID на группу пассажира, т.к. его номер в группе нас не интересует"
   ]
  },
  {
   "cell_type": "code",
   "execution_count": 32,
   "id": "622c5c2e-a90a-4ad7-9bf7-177bd9dc20ec",
   "metadata": {
    "ExecuteTime": {
     "end_time": "2023-12-09T07:27:48.407320300Z",
     "start_time": "2023-12-09T07:27:48.275525800Z"
    },
    "execution": {
     "iopub.execute_input": "2023-12-15T17:34:21.238206Z",
     "iopub.status.busy": "2023-12-15T17:34:21.237237Z",
     "iopub.status.idle": "2023-12-15T17:34:21.255848Z",
     "shell.execute_reply": "2023-12-15T17:34:21.254325Z"
    },
    "papermill": {
     "duration": 0.03864,
     "end_time": "2023-12-15T17:34:21.257847",
     "exception": false,
     "start_time": "2023-12-15T17:34:21.219207",
     "status": "completed"
    },
    "tags": []
   },
   "outputs": [],
   "source": [
    "train['GroupNumber'] = train['PassengerId'].str.split('_').str[0].astype(int)\n",
    "train.drop('PassengerId', axis=1, inplace=True)"
   ]
  },
  {
   "cell_type": "code",
   "execution_count": 33,
   "id": "d33ed258-90ac-4c79-892a-77e9486aed3f",
   "metadata": {
    "ExecuteTime": {
     "end_time": "2023-12-09T07:27:48.614451900Z",
     "start_time": "2023-12-09T07:27:48.317925700Z"
    },
    "execution": {
     "iopub.execute_input": "2023-12-15T17:34:21.291847Z",
     "iopub.status.busy": "2023-12-15T17:34:21.291847Z",
     "iopub.status.idle": "2023-12-15T17:34:21.304893Z",
     "shell.execute_reply": "2023-12-15T17:34:21.304893Z"
    },
    "papermill": {
     "duration": 0.034001,
     "end_time": "2023-12-15T17:34:21.307849",
     "exception": false,
     "start_time": "2023-12-15T17:34:21.273848",
     "status": "completed"
    },
    "tags": []
   },
   "outputs": [
    {
     "data": {
      "text/html": [
       "<div>\n",
       "<style scoped>\n",
       "    .dataframe tbody tr th:only-of-type {\n",
       "        vertical-align: middle;\n",
       "    }\n",
       "\n",
       "    .dataframe tbody tr th {\n",
       "        vertical-align: top;\n",
       "    }\n",
       "\n",
       "    .dataframe thead th {\n",
       "        text-align: right;\n",
       "    }\n",
       "</style>\n",
       "<table border=\"1\" class=\"dataframe\">\n",
       "  <thead>\n",
       "    <tr style=\"text-align: right;\">\n",
       "      <th></th>\n",
       "      <th>HomePlanet</th>\n",
       "      <th>CryoSleep</th>\n",
       "      <th>Destination</th>\n",
       "      <th>Age</th>\n",
       "      <th>VIP</th>\n",
       "      <th>RoomService</th>\n",
       "      <th>FoodCourt</th>\n",
       "      <th>ShoppingMall</th>\n",
       "      <th>Spa</th>\n",
       "      <th>VRDeck</th>\n",
       "      <th>Transported</th>\n",
       "      <th>Deck</th>\n",
       "      <th>Num</th>\n",
       "      <th>Side</th>\n",
       "      <th>Route</th>\n",
       "      <th>SocialLevel</th>\n",
       "      <th>GroupNumber</th>\n",
       "    </tr>\n",
       "  </thead>\n",
       "  <tbody>\n",
       "    <tr>\n",
       "      <th>0</th>\n",
       "      <td>0</td>\n",
       "      <td>0</td>\n",
       "      <td>0</td>\n",
       "      <td>2</td>\n",
       "      <td>0</td>\n",
       "      <td>0</td>\n",
       "      <td>0</td>\n",
       "      <td>0</td>\n",
       "      <td>0</td>\n",
       "      <td>0</td>\n",
       "      <td>False</td>\n",
       "      <td>0</td>\n",
       "      <td>0</td>\n",
       "      <td>0</td>\n",
       "      <td>1</td>\n",
       "      <td>0</td>\n",
       "      <td>1</td>\n",
       "    </tr>\n",
       "    <tr>\n",
       "      <th>1</th>\n",
       "      <td>1</td>\n",
       "      <td>0</td>\n",
       "      <td>0</td>\n",
       "      <td>1</td>\n",
       "      <td>0</td>\n",
       "      <td>4</td>\n",
       "      <td>4</td>\n",
       "      <td>4</td>\n",
       "      <td>4</td>\n",
       "      <td>4</td>\n",
       "      <td>True</td>\n",
       "      <td>1</td>\n",
       "      <td>0</td>\n",
       "      <td>1</td>\n",
       "      <td>4</td>\n",
       "      <td>4</td>\n",
       "      <td>2</td>\n",
       "    </tr>\n",
       "    <tr>\n",
       "      <th>2</th>\n",
       "      <td>0</td>\n",
       "      <td>0</td>\n",
       "      <td>0</td>\n",
       "      <td>3</td>\n",
       "      <td>1</td>\n",
       "      <td>4</td>\n",
       "      <td>4</td>\n",
       "      <td>0</td>\n",
       "      <td>4</td>\n",
       "      <td>4</td>\n",
       "      <td>False</td>\n",
       "      <td>2</td>\n",
       "      <td>0</td>\n",
       "      <td>1</td>\n",
       "      <td>1</td>\n",
       "      <td>4</td>\n",
       "      <td>3</td>\n",
       "    </tr>\n",
       "    <tr>\n",
       "      <th>3</th>\n",
       "      <td>0</td>\n",
       "      <td>0</td>\n",
       "      <td>0</td>\n",
       "      <td>2</td>\n",
       "      <td>0</td>\n",
       "      <td>0</td>\n",
       "      <td>4</td>\n",
       "      <td>4</td>\n",
       "      <td>4</td>\n",
       "      <td>4</td>\n",
       "      <td>False</td>\n",
       "      <td>2</td>\n",
       "      <td>0</td>\n",
       "      <td>1</td>\n",
       "      <td>1</td>\n",
       "      <td>4</td>\n",
       "      <td>3</td>\n",
       "    </tr>\n",
       "    <tr>\n",
       "      <th>4</th>\n",
       "      <td>1</td>\n",
       "      <td>0</td>\n",
       "      <td>0</td>\n",
       "      <td>1</td>\n",
       "      <td>0</td>\n",
       "      <td>4</td>\n",
       "      <td>4</td>\n",
       "      <td>4</td>\n",
       "      <td>4</td>\n",
       "      <td>2</td>\n",
       "      <td>True</td>\n",
       "      <td>1</td>\n",
       "      <td>1</td>\n",
       "      <td>1</td>\n",
       "      <td>4</td>\n",
       "      <td>4</td>\n",
       "      <td>4</td>\n",
       "    </tr>\n",
       "  </tbody>\n",
       "</table>\n",
       "</div>"
      ],
      "text/plain": [
       "   HomePlanet  CryoSleep  Destination  Age  VIP  RoomService  FoodCourt  \\\n",
       "0           0          0            0    2    0            0          0   \n",
       "1           1          0            0    1    0            4          4   \n",
       "2           0          0            0    3    1            4          4   \n",
       "3           0          0            0    2    0            0          4   \n",
       "4           1          0            0    1    0            4          4   \n",
       "\n",
       "   ShoppingMall  Spa  VRDeck  Transported  Deck  Num  Side  Route  \\\n",
       "0             0    0       0        False     0    0     0      1   \n",
       "1             4    4       4         True     1    0     1      4   \n",
       "2             0    4       4        False     2    0     1      1   \n",
       "3             4    4       4        False     2    0     1      1   \n",
       "4             4    4       2         True     1    1     1      4   \n",
       "\n",
       "   SocialLevel  GroupNumber  \n",
       "0            0            1  \n",
       "1            4            2  \n",
       "2            4            3  \n",
       "3            4            3  \n",
       "4            4            4  "
      ]
     },
     "execution_count": 33,
     "metadata": {},
     "output_type": "execute_result"
    }
   ],
   "source": [
    "train.head()"
   ]
  },
  {
   "cell_type": "code",
   "execution_count": null,
   "id": "9d756396-d7e2-4354-af8c-d7bbe9fc4fbb",
   "metadata": {
    "ExecuteTime": {
     "end_time": "2023-12-09T07:30:15.919517500Z",
     "start_time": "2023-12-09T07:27:48.377171Z"
    },
    "execution": {
     "iopub.execute_input": "2023-12-15T17:24:13.206874Z",
     "iopub.status.busy": "2023-12-15T17:24:13.205877Z",
     "iopub.status.idle": "2023-12-15T17:25:12.090164Z",
     "shell.execute_reply": "2023-12-15T17:25:12.089167Z"
    },
    "papermill": {
     "duration": null,
     "end_time": null,
     "exception": false,
     "start_time": "2023-12-15T17:34:21.327858",
     "status": "running"
    },
    "tags": []
   },
   "outputs": [],
   "source": [
    "columns_to_plot = train[train.columns.difference(['Transported'])]\n",
    "num_columns = len(columns_to_plot)\n",
    "fig, axes = plt.subplots(4, 4, figsize=(30, 20))\n",
    "plt.subplots_adjust(hspace=0.5)\n",
    "\n",
    "for i, column in enumerate(columns_to_plot):\n",
    "    ax = axes[i // 4, i % 4]\n",
    "    sns.barplot(\n",
    "        x=train[column],  \n",
    "        y=train['Transported'],  \n",
    "        ax=ax,\n",
    "        errorbar=None\n",
    "    )\n",
    "    ax.set_xlabel(column)\n",
    "    ax.set_ylabel('Transported')  \n",
    "    ax.set_title(f'{column} vs Transported')\n",
    "\n",
    "plt.show()"
   ]
  },
  {
   "cell_type": "code",
   "execution_count": null,
   "id": "77097c27-b122-4e72-ae55-96410c4aa805",
   "metadata": {
    "ExecuteTime": {
     "end_time": "2023-12-09T07:30:21.676085100Z",
     "start_time": "2023-12-09T07:30:15.919517500Z"
    },
    "execution": {
     "iopub.execute_input": "2023-12-15T17:25:12.157143Z",
     "iopub.status.busy": "2023-12-15T17:25:12.156140Z",
     "iopub.status.idle": "2023-12-15T17:25:13.386686Z",
     "shell.execute_reply": "2023-12-15T17:25:13.385685Z"
    },
    "papermill": {
     "duration": null,
     "end_time": null,
     "exception": null,
     "start_time": null,
     "status": "pending"
    },
    "tags": []
   },
   "outputs": [],
   "source": [
    "plt.figure(figsize=(15, 6))\n",
    "sns.clustermap(train.corr(\"pearson\"), vmin=-1.0, vmax=1.0, cmap=\"icefire\", method=\"complete\", annot=True)"
   ]
  },
  {
   "cell_type": "markdown",
   "id": "f6d1689a-977d-4f7c-be63-6053d7ab455a",
   "metadata": {
    "papermill": {
     "duration": null,
     "end_time": null,
     "exception": null,
     "start_time": null,
     "status": "pending"
    },
    "tags": []
   },
   "source": [
    "Из матрицы корреляций видим следующие зависимости:\n",
    "1. Transported достаточно сильно зависит от RoomService, FoodCourt, ShoppingMall, Spa, VRDeck и, в том числе, от SocialLevel. \n",
    "2. Transported также очень зависит от CryoSleep.\n",
    "3. Вопреки ожиданиям, Transported имеет слабую корреляцию с возрастом, наличием VIP, палубой, маршрутом, номером каюты и номером группы; немного более высокую со стороной, пунктом прибытия и пунктом отправления.\n",
    "4. RoomService, FoodCourt, ShoppingMall, Spa, VRDeck имеют сильную корреляцию между собой, которая увеличилась после разбиения значений на интервалы, и с SocialLevel, поэтому эти 5 признаков можно будет заменить одним. Также они коррелируют с CryoSleep"
   ]
  },
  {
   "cell_type": "code",
   "execution_count": null,
   "id": "6014b5f4-9754-4218-9ea0-c242241efe19",
   "metadata": {
    "ExecuteTime": {
     "end_time": "2023-12-09T07:34:13.740725700Z",
     "start_time": "2023-12-09T07:34:13.532968800Z"
    },
    "collapsed": false,
    "execution": {
     "iopub.execute_input": "2023-12-15T17:25:13.510587Z",
     "iopub.status.busy": "2023-12-15T17:25:13.509587Z",
     "iopub.status.idle": "2023-12-15T17:25:13.852473Z",
     "shell.execute_reply": "2023-12-15T17:25:13.852473Z"
    },
    "jupyter": {
     "outputs_hidden": false
    },
    "papermill": {
     "duration": null,
     "end_time": null,
     "exception": null,
     "start_time": null,
     "status": "pending"
    },
    "tags": []
   },
   "outputs": [],
   "source": [
    "from sklearn.model_selection import train_test_split\n",
    "\n",
    "target = \"Transported\"\n",
    "X = train.drop(target, axis=1)\n",
    "y = train[target]\n",
    "\n",
    "X_train, X_valid, y_train, y_valid = train_test_split(X, y, stratify=y, train_size=0.8, test_size=0.2, random_state=0)"
   ]
  },
  {
   "cell_type": "code",
   "execution_count": null,
   "id": "0307c706-eb80-4306-9cbe-3ce307156cb8",
   "metadata": {
    "execution": {
     "iopub.execute_input": "2023-12-15T17:25:13.956166Z",
     "iopub.status.busy": "2023-12-15T17:25:13.955149Z",
     "iopub.status.idle": "2023-12-15T17:25:14.010991Z",
     "shell.execute_reply": "2023-12-15T17:25:14.010991Z"
    },
    "papermill": {
     "duration": null,
     "end_time": null,
     "exception": null,
     "start_time": null,
     "status": "pending"
    },
    "tags": []
   },
   "outputs": [],
   "source": [
    "X_train.to_csv(\"data/X_train_preprocessed.csv\", index=False)\n",
    "y_train.to_csv(\"data/y_train_preprocessed.csv\", index=False)\n",
    "X_valid.to_csv(\"data/X_valid_preprocessed.csv\", index=False)\n",
    "y_valid.to_csv(\"data/y_valid_preprocessed.csv\", index=False)"
   ]
  },
  {
   "cell_type": "code",
   "execution_count": null,
   "id": "a628da72-a12e-4393-8187-12ea3a0fe655",
   "metadata": {
    "execution": {
     "iopub.execute_input": "2023-12-15T17:25:14.061332Z",
     "iopub.status.busy": "2023-12-15T17:25:14.060313Z",
     "iopub.status.idle": "2023-12-15T17:25:14.065543Z",
     "shell.execute_reply": "2023-12-15T17:25:14.065543Z"
    },
    "papermill": {
     "duration": null,
     "end_time": null,
     "exception": null,
     "start_time": null,
     "status": "pending"
    },
    "tags": []
   },
   "outputs": [],
   "source": [
    "with open('data/scores.txt', 'w') as file:\n",
    "    file.truncate(0)"
   ]
  }
 ],
 "metadata": {
  "kernelspec": {
   "display_name": "Python 3 (ipykernel)",
   "language": "python",
   "name": "python3"
  },
  "language_info": {
   "codemirror_mode": {
    "name": "ipython",
    "version": 3
   },
   "file_extension": ".py",
   "mimetype": "text/x-python",
   "name": "python",
   "nbconvert_exporter": "python",
   "pygments_lexer": "ipython3",
   "version": "3.11.3"
  },
  "papermill": {
   "default_parameters": {},
   "duration": null,
   "end_time": null,
   "environment_variables": {},
   "exception": null,
   "input_path": "C:\\Users\\draco\\JupyterLabProjects\\Elyra_HW_DS\\data_preprocessing.ipynb",
   "output_path": "C:\\Users\\draco\\JupyterLabProjects\\Elyra_HW_DS\\data_preprocessing.ipynb",
   "parameters": {},
   "start_time": "2023-12-15T17:34:05.312560",
   "version": "2.5.0"
  }
 },
 "nbformat": 4,
 "nbformat_minor": 5
}