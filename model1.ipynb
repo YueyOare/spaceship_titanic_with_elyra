{
 "cells": [
  {
   "cell_type": "code",
   "execution_count": 1,
   "id": "5d924d46-69c6-4fa9-b75a-2d2950b35900",
   "metadata": {
    "execution": {
     "iopub.execute_input": "2023-12-15T17:25:18.378518Z",
     "iopub.status.busy": "2023-12-15T17:25:18.378518Z",
     "iopub.status.idle": "2023-12-15T17:25:20.083392Z",
     "shell.execute_reply": "2023-12-15T17:25:20.083392Z"
    },
    "papermill": {
     "duration": 1.712876,
     "end_time": "2023-12-15T17:25:20.085390",
     "exception": false,
     "start_time": "2023-12-15T17:25:18.372514",
     "status": "completed"
    },
    "tags": []
   },
   "outputs": [],
   "source": [
    "from sklearn.linear_model import LogisticRegression\n",
    "from sklearn.model_selection import GridSearchCV\n",
    "import pandas as pd\n",
    "import joblib"
   ]
  },
  {
   "cell_type": "code",
   "execution_count": 2,
   "id": "463920bf-c7c3-4d35-98a5-3b58215ceca5",
   "metadata": {
    "execution": {
     "iopub.execute_input": "2023-12-15T17:25:20.094426Z",
     "iopub.status.busy": "2023-12-15T17:25:20.094426Z",
     "iopub.status.idle": "2023-12-15T17:25:20.120912Z",
     "shell.execute_reply": "2023-12-15T17:25:20.120912Z"
    },
    "papermill": {
     "duration": 0.034543,
     "end_time": "2023-12-15T17:25:20.123934",
     "exception": false,
     "start_time": "2023-12-15T17:25:20.089391",
     "status": "completed"
    },
    "tags": []
   },
   "outputs": [],
   "source": [
    "X_train = pd.read_csv('data/X_train_preprocessed.csv')\n",
    "y_train = pd.read_csv('data/y_train_preprocessed.csv').values\n",
    "X_valid = pd.read_csv('data/X_valid_preprocessed.csv')\n",
    "y_valid = pd.read_csv('data/y_valid_preprocessed.csv').values"
   ]
  },
  {
   "cell_type": "code",
   "execution_count": 3,
   "id": "7c615dfa-5555-41ed-842a-a6383cf58491",
   "metadata": {
    "execution": {
     "iopub.execute_input": "2023-12-15T17:25:20.130939Z",
     "iopub.status.busy": "2023-12-15T17:25:20.129943Z",
     "iopub.status.idle": "2023-12-15T17:25:20.136530Z",
     "shell.execute_reply": "2023-12-15T17:25:20.135527Z"
    },
    "papermill": {
     "duration": 0.011594,
     "end_time": "2023-12-15T17:25:20.138532",
     "exception": false,
     "start_time": "2023-12-15T17:25:20.126938",
     "status": "completed"
    },
    "tags": []
   },
   "outputs": [],
   "source": [
    "model = LogisticRegression(random_state=0, n_jobs=-1)\n",
    "\n",
    "# Grids for grid search\n",
    "grid = {'penalty': ['l1', 'l2'],\n",
    "           'C': [0.25, 0.5, 0.75, 1, 1.25, 1.5],\n",
    "           'max_iter': [50, 100, 150]}"
   ]
  },
  {
   "cell_type": "code",
   "execution_count": 4,
   "id": "c809d36f-b900-475d-9e00-8cc9aded1874",
   "metadata": {
    "execution": {
     "iopub.execute_input": "2023-12-15T17:25:20.144531Z",
     "iopub.status.busy": "2023-12-15T17:25:20.144531Z",
     "iopub.status.idle": "2023-12-15T17:25:26.616735Z",
     "shell.execute_reply": "2023-12-15T17:25:26.615990Z"
    },
    "papermill": {
     "duration": 6.478238,
     "end_time": "2023-12-15T17:25:26.618769",
     "exception": false,
     "start_time": "2023-12-15T17:25:20.140531",
     "status": "completed"
    },
    "tags": []
   },
   "outputs": [
    {
     "name": "stderr",
     "output_type": "stream",
     "text": [
      "C:\\Users\\draco\\AppData\\Local\\Programs\\Python\\Python311\\Lib\\site-packages\\sklearn\\model_selection\\_validation.py:425: FitFailedWarning: \n",
      "90 fits failed out of a total of 180.\n",
      "The score on these train-test partitions for these parameters will be set to nan.\n",
      "If these failures are not expected, you can try to debug them by setting error_score='raise'.\n",
      "\n",
      "Below are more details about the failures:\n",
      "--------------------------------------------------------------------------------\n",
      "90 fits failed with the following error:\n",
      "Traceback (most recent call last):\n",
      "  File \"C:\\Users\\draco\\AppData\\Local\\Programs\\Python\\Python311\\Lib\\site-packages\\sklearn\\model_selection\\_validation.py\", line 732, in _fit_and_score\n",
      "    estimator.fit(X_train, y_train, **fit_params)\n",
      "  File \"C:\\Users\\draco\\AppData\\Local\\Programs\\Python\\Python311\\Lib\\site-packages\\sklearn\\base.py\", line 1151, in wrapper\n",
      "    return fit_method(estimator, *args, **kwargs)\n",
      "           ^^^^^^^^^^^^^^^^^^^^^^^^^^^^^^^^^^^^^^\n",
      "  File \"C:\\Users\\draco\\AppData\\Local\\Programs\\Python\\Python311\\Lib\\site-packages\\sklearn\\linear_model\\_logistic.py\", line 1168, in fit\n",
      "    solver = _check_solver(self.solver, self.penalty, self.dual)\n",
      "             ^^^^^^^^^^^^^^^^^^^^^^^^^^^^^^^^^^^^^^^^^^^^^^^^^^^\n",
      "  File \"C:\\Users\\draco\\AppData\\Local\\Programs\\Python\\Python311\\Lib\\site-packages\\sklearn\\linear_model\\_logistic.py\", line 56, in _check_solver\n",
      "    raise ValueError(\n",
      "ValueError: Solver lbfgs supports only 'l2' or 'none' penalties, got l1 penalty.\n",
      "\n",
      "  warnings.warn(some_fits_failed_message, FitFailedWarning)\n",
      "C:\\Users\\draco\\AppData\\Local\\Programs\\Python\\Python311\\Lib\\site-packages\\sklearn\\model_selection\\_search.py:976: UserWarning: One or more of the test scores are non-finite: [       nan 0.73885668        nan 0.74000662        nan 0.73727384\n",
      "        nan 0.73900046        nan 0.73741866        nan 0.73986201\n",
      "        nan 0.7348308         nan 0.7401504         nan 0.73669872\n",
      "        nan 0.73799399        nan 0.73957548        nan 0.73885544\n",
      "        nan 0.73813767        nan 0.73928678        nan 0.7368425\n",
      "        nan 0.73842533        nan 0.74000683        nan 0.73943067]\n",
      "  warnings.warn(\n",
      "C:\\Users\\draco\\AppData\\Local\\Programs\\Python\\Python311\\Lib\\site-packages\\sklearn\\utils\\validation.py:1184: DataConversionWarning: A column-vector y was passed when a 1d array was expected. Please change the shape of y to (n_samples, ), for example using ravel().\n",
      "  y = column_or_1d(y, warn=True)\n"
     ]
    },
    {
     "data": {
      "text/html": [
       "<style>#sk-container-id-1 {color: black;}#sk-container-id-1 pre{padding: 0;}#sk-container-id-1 div.sk-toggleable {background-color: white;}#sk-container-id-1 label.sk-toggleable__label {cursor: pointer;display: block;width: 100%;margin-bottom: 0;padding: 0.3em;box-sizing: border-box;text-align: center;}#sk-container-id-1 label.sk-toggleable__label-arrow:before {content: \"▸\";float: left;margin-right: 0.25em;color: #696969;}#sk-container-id-1 label.sk-toggleable__label-arrow:hover:before {color: black;}#sk-container-id-1 div.sk-estimator:hover label.sk-toggleable__label-arrow:before {color: black;}#sk-container-id-1 div.sk-toggleable__content {max-height: 0;max-width: 0;overflow: hidden;text-align: left;background-color: #f0f8ff;}#sk-container-id-1 div.sk-toggleable__content pre {margin: 0.2em;color: black;border-radius: 0.25em;background-color: #f0f8ff;}#sk-container-id-1 input.sk-toggleable__control:checked~div.sk-toggleable__content {max-height: 200px;max-width: 100%;overflow: auto;}#sk-container-id-1 input.sk-toggleable__control:checked~label.sk-toggleable__label-arrow:before {content: \"▾\";}#sk-container-id-1 div.sk-estimator input.sk-toggleable__control:checked~label.sk-toggleable__label {background-color: #d4ebff;}#sk-container-id-1 div.sk-label input.sk-toggleable__control:checked~label.sk-toggleable__label {background-color: #d4ebff;}#sk-container-id-1 input.sk-hidden--visually {border: 0;clip: rect(1px 1px 1px 1px);clip: rect(1px, 1px, 1px, 1px);height: 1px;margin: -1px;overflow: hidden;padding: 0;position: absolute;width: 1px;}#sk-container-id-1 div.sk-estimator {font-family: monospace;background-color: #f0f8ff;border: 1px dotted black;border-radius: 0.25em;box-sizing: border-box;margin-bottom: 0.5em;}#sk-container-id-1 div.sk-estimator:hover {background-color: #d4ebff;}#sk-container-id-1 div.sk-parallel-item::after {content: \"\";width: 100%;border-bottom: 1px solid gray;flex-grow: 1;}#sk-container-id-1 div.sk-label:hover label.sk-toggleable__label {background-color: #d4ebff;}#sk-container-id-1 div.sk-serial::before {content: \"\";position: absolute;border-left: 1px solid gray;box-sizing: border-box;top: 0;bottom: 0;left: 50%;z-index: 0;}#sk-container-id-1 div.sk-serial {display: flex;flex-direction: column;align-items: center;background-color: white;padding-right: 0.2em;padding-left: 0.2em;position: relative;}#sk-container-id-1 div.sk-item {position: relative;z-index: 1;}#sk-container-id-1 div.sk-parallel {display: flex;align-items: stretch;justify-content: center;background-color: white;position: relative;}#sk-container-id-1 div.sk-item::before, #sk-container-id-1 div.sk-parallel-item::before {content: \"\";position: absolute;border-left: 1px solid gray;box-sizing: border-box;top: 0;bottom: 0;left: 50%;z-index: -1;}#sk-container-id-1 div.sk-parallel-item {display: flex;flex-direction: column;z-index: 1;position: relative;background-color: white;}#sk-container-id-1 div.sk-parallel-item:first-child::after {align-self: flex-end;width: 50%;}#sk-container-id-1 div.sk-parallel-item:last-child::after {align-self: flex-start;width: 50%;}#sk-container-id-1 div.sk-parallel-item:only-child::after {width: 0;}#sk-container-id-1 div.sk-dashed-wrapped {border: 1px dashed gray;margin: 0 0.4em 0.5em 0.4em;box-sizing: border-box;padding-bottom: 0.4em;background-color: white;}#sk-container-id-1 div.sk-label label {font-family: monospace;font-weight: bold;display: inline-block;line-height: 1.2em;}#sk-container-id-1 div.sk-label-container {text-align: center;}#sk-container-id-1 div.sk-container {/* jupyter's `normalize.less` sets `[hidden] { display: none; }` but bootstrap.min.css set `[hidden] { display: none !important; }` so we also need the `!important` here to be able to override the default hidden behavior on the sphinx rendered scikit-learn.org. See: https://github.com/scikit-learn/scikit-learn/issues/21755 */display: inline-block !important;position: relative;}#sk-container-id-1 div.sk-text-repr-fallback {display: none;}</style><div id=\"sk-container-id-1\" class=\"sk-top-container\"><div class=\"sk-text-repr-fallback\"><pre>GridSearchCV(estimator=LogisticRegression(n_jobs=-1, random_state=0), n_jobs=-1,\n",
       "             param_grid={&#x27;C&#x27;: [0.25, 0.5, 0.75, 1, 1.25, 1.5],\n",
       "                         &#x27;max_iter&#x27;: [50, 100, 150], &#x27;penalty&#x27;: [&#x27;l1&#x27;, &#x27;l2&#x27;]})</pre><b>In a Jupyter environment, please rerun this cell to show the HTML representation or trust the notebook. <br />On GitHub, the HTML representation is unable to render, please try loading this page with nbviewer.org.</b></div><div class=\"sk-container\" hidden><div class=\"sk-item sk-dashed-wrapped\"><div class=\"sk-label-container\"><div class=\"sk-label sk-toggleable\"><input class=\"sk-toggleable__control sk-hidden--visually\" id=\"sk-estimator-id-1\" type=\"checkbox\" ><label for=\"sk-estimator-id-1\" class=\"sk-toggleable__label sk-toggleable__label-arrow\">GridSearchCV</label><div class=\"sk-toggleable__content\"><pre>GridSearchCV(estimator=LogisticRegression(n_jobs=-1, random_state=0), n_jobs=-1,\n",
       "             param_grid={&#x27;C&#x27;: [0.25, 0.5, 0.75, 1, 1.25, 1.5],\n",
       "                         &#x27;max_iter&#x27;: [50, 100, 150], &#x27;penalty&#x27;: [&#x27;l1&#x27;, &#x27;l2&#x27;]})</pre></div></div></div><div class=\"sk-parallel\"><div class=\"sk-parallel-item\"><div class=\"sk-item\"><div class=\"sk-label-container\"><div class=\"sk-label sk-toggleable\"><input class=\"sk-toggleable__control sk-hidden--visually\" id=\"sk-estimator-id-2\" type=\"checkbox\" ><label for=\"sk-estimator-id-2\" class=\"sk-toggleable__label sk-toggleable__label-arrow\">estimator: LogisticRegression</label><div class=\"sk-toggleable__content\"><pre>LogisticRegression(n_jobs=-1, random_state=0)</pre></div></div></div><div class=\"sk-serial\"><div class=\"sk-item\"><div class=\"sk-estimator sk-toggleable\"><input class=\"sk-toggleable__control sk-hidden--visually\" id=\"sk-estimator-id-3\" type=\"checkbox\" ><label for=\"sk-estimator-id-3\" class=\"sk-toggleable__label sk-toggleable__label-arrow\">LogisticRegression</label><div class=\"sk-toggleable__content\"><pre>LogisticRegression(n_jobs=-1, random_state=0)</pre></div></div></div></div></div></div></div></div></div></div>"
      ],
      "text/plain": [
       "GridSearchCV(estimator=LogisticRegression(n_jobs=-1, random_state=0), n_jobs=-1,\n",
       "             param_grid={'C': [0.25, 0.5, 0.75, 1, 1.25, 1.5],\n",
       "                         'max_iter': [50, 100, 150], 'penalty': ['l1', 'l2']})"
      ]
     },
     "execution_count": 4,
     "metadata": {},
     "output_type": "execute_result"
    }
   ],
   "source": [
    "clf = GridSearchCV(estimator=model, param_grid=grid, n_jobs=-1, cv=None)\n",
    "# Train and score\n",
    "clf.fit(X_train, y_train)"
   ]
  },
  {
   "cell_type": "code",
   "execution_count": 5,
   "id": "6a818fd3-5dd6-4598-b675-01f24c3e4938",
   "metadata": {
    "execution": {
     "iopub.execute_input": "2023-12-15T17:25:26.627771Z",
     "iopub.status.busy": "2023-12-15T17:25:26.627771Z",
     "iopub.status.idle": "2023-12-15T17:25:26.638385Z",
     "shell.execute_reply": "2023-12-15T17:25:26.637383Z"
    },
    "papermill": {
     "duration": 0.01664,
     "end_time": "2023-12-15T17:25:26.639411",
     "exception": false,
     "start_time": "2023-12-15T17:25:26.622771",
     "status": "completed"
    },
    "tags": []
   },
   "outputs": [
    {
     "data": {
      "text/plain": [
       "0.7337550316273721"
      ]
     },
     "execution_count": 5,
     "metadata": {},
     "output_type": "execute_result"
    }
   ],
   "source": [
    "score = clf.score(X_valid, y_valid)\n",
    "score"
   ]
  },
  {
   "cell_type": "code",
   "execution_count": 6,
   "id": "a4bcc5bb-9455-40a9-bfb8-2784fa9dcb65",
   "metadata": {
    "execution": {
     "iopub.execute_input": "2023-12-15T17:25:26.648383Z",
     "iopub.status.busy": "2023-12-15T17:25:26.648383Z",
     "iopub.status.idle": "2023-12-15T17:25:26.656607Z",
     "shell.execute_reply": "2023-12-15T17:25:26.655618Z"
    },
    "papermill": {
     "duration": 0.015225,
     "end_time": "2023-12-15T17:25:26.658607",
     "exception": false,
     "start_time": "2023-12-15T17:25:26.643382",
     "status": "completed"
    },
    "tags": []
   },
   "outputs": [
    {
     "data": {
      "text/plain": [
       "['data/LogisticRegression.joblib']"
      ]
     },
     "execution_count": 6,
     "metadata": {},
     "output_type": "execute_result"
    }
   ],
   "source": [
    "joblib.dump(LogisticRegression(random_state=0, n_jobs=-1, **clf.best_params_), 'data/LogisticRegression.joblib')"
   ]
  },
  {
   "cell_type": "code",
   "execution_count": 7,
   "id": "658dce6c-1670-4326-9d41-16b2207b0b83",
   "metadata": {
    "execution": {
     "iopub.execute_input": "2023-12-15T17:25:26.666610Z",
     "iopub.status.busy": "2023-12-15T17:25:26.665608Z",
     "iopub.status.idle": "2023-12-15T17:25:26.672100Z",
     "shell.execute_reply": "2023-12-15T17:25:26.670885Z"
    },
    "papermill": {
     "duration": 0.012553,
     "end_time": "2023-12-15T17:25:26.674159",
     "exception": false,
     "start_time": "2023-12-15T17:25:26.661606",
     "status": "completed"
    },
    "tags": []
   },
   "outputs": [],
   "source": [
    "with open('data/scores.txt', 'a') as file:\n",
    "    file.write(f'LogisticRegression: {score}\\n')"
   ]
  }
 ],
 "metadata": {
  "kernelspec": {
   "display_name": "Python 3 (ipykernel)",
   "language": "python",
   "name": "python3"
  },
  "language_info": {
   "codemirror_mode": {
    "name": "ipython",
    "version": 3
   },
   "file_extension": ".py",
   "mimetype": "text/x-python",
   "name": "python",
   "nbconvert_exporter": "python",
   "pygments_lexer": "ipython3",
   "version": "3.11.3"
  },
  "papermill": {
   "default_parameters": {},
   "duration": 11.313661,
   "end_time": "2023-12-15T17:25:27.150238",
   "environment_variables": {},
   "exception": null,
   "input_path": "C:\\Users\\draco\\JupyterLabProjects\\Elyra_HW_DS\\model1.ipynb",
   "output_path": "C:\\Users\\draco\\JupyterLabProjects\\Elyra_HW_DS\\model1.ipynb",
   "parameters": {},
   "start_time": "2023-12-15T17:25:15.836577",
   "version": "2.5.0"
  }
 },
 "nbformat": 4,
 "nbformat_minor": 5
}