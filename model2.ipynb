{
 "cells": [
  {
   "cell_type": "code",
   "execution_count": 1,
   "id": "0e06069e-aa6a-4c0c-bfa0-596f11e38fbf",
   "metadata": {
    "execution": {
     "iopub.execute_input": "2023-12-15T17:25:29.022775Z",
     "iopub.status.busy": "2023-12-15T17:25:29.021774Z",
     "iopub.status.idle": "2023-12-15T17:25:30.488167Z",
     "shell.execute_reply": "2023-12-15T17:25:30.487167Z"
    },
    "papermill": {
     "duration": 1.473259,
     "end_time": "2023-12-15T17:25:30.490200",
     "exception": false,
     "start_time": "2023-12-15T17:25:29.016941",
     "status": "completed"
    },
    "tags": []
   },
   "outputs": [],
   "source": [
    "from sklearn.ensemble import RandomForestClassifier\n",
    "from sklearn.model_selection import GridSearchCV\n",
    "import pandas as pd\n",
    "import joblib"
   ]
  },
  {
   "cell_type": "code",
   "execution_count": 2,
   "id": "4c03bfbd-543f-45f9-bedf-a93a84a3f8fc",
   "metadata": {
    "execution": {
     "iopub.execute_input": "2023-12-15T17:25:30.502975Z",
     "iopub.status.busy": "2023-12-15T17:25:30.501981Z",
     "iopub.status.idle": "2023-12-15T17:25:30.529193Z",
     "shell.execute_reply": "2023-12-15T17:25:30.528195Z"
    },
    "papermill": {
     "duration": 0.035456,
     "end_time": "2023-12-15T17:25:30.531227",
     "exception": false,
     "start_time": "2023-12-15T17:25:30.495771",
     "status": "completed"
    },
    "tags": []
   },
   "outputs": [],
   "source": [
    "X_train = pd.read_csv('data/X_train_preprocessed.csv')\n",
    "y_train = pd.read_csv('data/y_train_preprocessed.csv').values\n",
    "X_valid = pd.read_csv('data/X_valid_preprocessed.csv')\n",
    "y_valid = pd.read_csv('data/y_valid_preprocessed.csv').values"
   ]
  },
  {
   "cell_type": "code",
   "execution_count": 3,
   "id": "851483cb-257b-4e9d-9d2b-bff087d22f15",
   "metadata": {
    "execution": {
     "iopub.execute_input": "2023-12-15T17:25:30.537191Z",
     "iopub.status.busy": "2023-12-15T17:25:30.537191Z",
     "iopub.status.idle": "2023-12-15T17:25:30.543116Z",
     "shell.execute_reply": "2023-12-15T17:25:30.542116Z"
    },
    "papermill": {
     "duration": 0.010954,
     "end_time": "2023-12-15T17:25:30.545147",
     "exception": false,
     "start_time": "2023-12-15T17:25:30.534193",
     "status": "completed"
    },
    "tags": []
   },
   "outputs": [],
   "source": [
    "model = RandomForestClassifier(random_state=0, n_jobs=-1)\n",
    "\n",
    "# Grids for grid search\n",
    "grid = {'n_estimators': [50, 100, 150, 200, 250, 300],\n",
    "        'max_depth': [4, 6, 8, 10, 12]}"
   ]
  },
  {
   "cell_type": "code",
   "execution_count": 4,
   "id": "8302752d-20e0-4439-8ba1-ba851353c93a",
   "metadata": {
    "execution": {
     "iopub.execute_input": "2023-12-15T17:25:30.552117Z",
     "iopub.status.busy": "2023-12-15T17:25:30.551114Z",
     "iopub.status.idle": "2023-12-15T17:27:10.695927Z",
     "shell.execute_reply": "2023-12-15T17:27:10.695927Z"
    },
    "papermill": {
     "duration": 100.150778,
     "end_time": "2023-12-15T17:27:10.697925",
     "exception": false,
     "start_time": "2023-12-15T17:25:30.547147",
     "status": "completed"
    },
    "tags": []
   },
   "outputs": [
    {
     "name": "stderr",
     "output_type": "stream",
     "text": [
      "C:\\Users\\draco\\AppData\\Local\\Programs\\Python\\Python311\\Lib\\site-packages\\sklearn\\base.py:1151: DataConversionWarning: A column-vector y was passed when a 1d array was expected. Please change the shape of y to (n_samples,), for example using ravel().\n",
      "  return fit_method(estimator, *args, **kwargs)\n"
     ]
    },
    {
     "data": {
      "text/html": [
       "<style>#sk-container-id-1 {color: black;}#sk-container-id-1 pre{padding: 0;}#sk-container-id-1 div.sk-toggleable {background-color: white;}#sk-container-id-1 label.sk-toggleable__label {cursor: pointer;display: block;width: 100%;margin-bottom: 0;padding: 0.3em;box-sizing: border-box;text-align: center;}#sk-container-id-1 label.sk-toggleable__label-arrow:before {content: \"▸\";float: left;margin-right: 0.25em;color: #696969;}#sk-container-id-1 label.sk-toggleable__label-arrow:hover:before {color: black;}#sk-container-id-1 div.sk-estimator:hover label.sk-toggleable__label-arrow:before {color: black;}#sk-container-id-1 div.sk-toggleable__content {max-height: 0;max-width: 0;overflow: hidden;text-align: left;background-color: #f0f8ff;}#sk-container-id-1 div.sk-toggleable__content pre {margin: 0.2em;color: black;border-radius: 0.25em;background-color: #f0f8ff;}#sk-container-id-1 input.sk-toggleable__control:checked~div.sk-toggleable__content {max-height: 200px;max-width: 100%;overflow: auto;}#sk-container-id-1 input.sk-toggleable__control:checked~label.sk-toggleable__label-arrow:before {content: \"▾\";}#sk-container-id-1 div.sk-estimator input.sk-toggleable__control:checked~label.sk-toggleable__label {background-color: #d4ebff;}#sk-container-id-1 div.sk-label input.sk-toggleable__control:checked~label.sk-toggleable__label {background-color: #d4ebff;}#sk-container-id-1 input.sk-hidden--visually {border: 0;clip: rect(1px 1px 1px 1px);clip: rect(1px, 1px, 1px, 1px);height: 1px;margin: -1px;overflow: hidden;padding: 0;position: absolute;width: 1px;}#sk-container-id-1 div.sk-estimator {font-family: monospace;background-color: #f0f8ff;border: 1px dotted black;border-radius: 0.25em;box-sizing: border-box;margin-bottom: 0.5em;}#sk-container-id-1 div.sk-estimator:hover {background-color: #d4ebff;}#sk-container-id-1 div.sk-parallel-item::after {content: \"\";width: 100%;border-bottom: 1px solid gray;flex-grow: 1;}#sk-container-id-1 div.sk-label:hover label.sk-toggleable__label {background-color: #d4ebff;}#sk-container-id-1 div.sk-serial::before {content: \"\";position: absolute;border-left: 1px solid gray;box-sizing: border-box;top: 0;bottom: 0;left: 50%;z-index: 0;}#sk-container-id-1 div.sk-serial {display: flex;flex-direction: column;align-items: center;background-color: white;padding-right: 0.2em;padding-left: 0.2em;position: relative;}#sk-container-id-1 div.sk-item {position: relative;z-index: 1;}#sk-container-id-1 div.sk-parallel {display: flex;align-items: stretch;justify-content: center;background-color: white;position: relative;}#sk-container-id-1 div.sk-item::before, #sk-container-id-1 div.sk-parallel-item::before {content: \"\";position: absolute;border-left: 1px solid gray;box-sizing: border-box;top: 0;bottom: 0;left: 50%;z-index: -1;}#sk-container-id-1 div.sk-parallel-item {display: flex;flex-direction: column;z-index: 1;position: relative;background-color: white;}#sk-container-id-1 div.sk-parallel-item:first-child::after {align-self: flex-end;width: 50%;}#sk-container-id-1 div.sk-parallel-item:last-child::after {align-self: flex-start;width: 50%;}#sk-container-id-1 div.sk-parallel-item:only-child::after {width: 0;}#sk-container-id-1 div.sk-dashed-wrapped {border: 1px dashed gray;margin: 0 0.4em 0.5em 0.4em;box-sizing: border-box;padding-bottom: 0.4em;background-color: white;}#sk-container-id-1 div.sk-label label {font-family: monospace;font-weight: bold;display: inline-block;line-height: 1.2em;}#sk-container-id-1 div.sk-label-container {text-align: center;}#sk-container-id-1 div.sk-container {/* jupyter's `normalize.less` sets `[hidden] { display: none; }` but bootstrap.min.css set `[hidden] { display: none !important; }` so we also need the `!important` here to be able to override the default hidden behavior on the sphinx rendered scikit-learn.org. See: https://github.com/scikit-learn/scikit-learn/issues/21755 */display: inline-block !important;position: relative;}#sk-container-id-1 div.sk-text-repr-fallback {display: none;}</style><div id=\"sk-container-id-1\" class=\"sk-top-container\"><div class=\"sk-text-repr-fallback\"><pre>GridSearchCV(estimator=RandomForestClassifier(n_jobs=-1, random_state=0),\n",
       "             n_jobs=-1,\n",
       "             param_grid={&#x27;max_depth&#x27;: [4, 6, 8, 10, 12],\n",
       "                         &#x27;n_estimators&#x27;: [50, 100, 150, 200, 250, 300]})</pre><b>In a Jupyter environment, please rerun this cell to show the HTML representation or trust the notebook. <br />On GitHub, the HTML representation is unable to render, please try loading this page with nbviewer.org.</b></div><div class=\"sk-container\" hidden><div class=\"sk-item sk-dashed-wrapped\"><div class=\"sk-label-container\"><div class=\"sk-label sk-toggleable\"><input class=\"sk-toggleable__control sk-hidden--visually\" id=\"sk-estimator-id-1\" type=\"checkbox\" ><label for=\"sk-estimator-id-1\" class=\"sk-toggleable__label sk-toggleable__label-arrow\">GridSearchCV</label><div class=\"sk-toggleable__content\"><pre>GridSearchCV(estimator=RandomForestClassifier(n_jobs=-1, random_state=0),\n",
       "             n_jobs=-1,\n",
       "             param_grid={&#x27;max_depth&#x27;: [4, 6, 8, 10, 12],\n",
       "                         &#x27;n_estimators&#x27;: [50, 100, 150, 200, 250, 300]})</pre></div></div></div><div class=\"sk-parallel\"><div class=\"sk-parallel-item\"><div class=\"sk-item\"><div class=\"sk-label-container\"><div class=\"sk-label sk-toggleable\"><input class=\"sk-toggleable__control sk-hidden--visually\" id=\"sk-estimator-id-2\" type=\"checkbox\" ><label for=\"sk-estimator-id-2\" class=\"sk-toggleable__label sk-toggleable__label-arrow\">estimator: RandomForestClassifier</label><div class=\"sk-toggleable__content\"><pre>RandomForestClassifier(n_jobs=-1, random_state=0)</pre></div></div></div><div class=\"sk-serial\"><div class=\"sk-item\"><div class=\"sk-estimator sk-toggleable\"><input class=\"sk-toggleable__control sk-hidden--visually\" id=\"sk-estimator-id-3\" type=\"checkbox\" ><label for=\"sk-estimator-id-3\" class=\"sk-toggleable__label sk-toggleable__label-arrow\">RandomForestClassifier</label><div class=\"sk-toggleable__content\"><pre>RandomForestClassifier(n_jobs=-1, random_state=0)</pre></div></div></div></div></div></div></div></div></div></div>"
      ],
      "text/plain": [
       "GridSearchCV(estimator=RandomForestClassifier(n_jobs=-1, random_state=0),\n",
       "             n_jobs=-1,\n",
       "             param_grid={'max_depth': [4, 6, 8, 10, 12],\n",
       "                         'n_estimators': [50, 100, 150, 200, 250, 300]})"
      ]
     },
     "execution_count": 4,
     "metadata": {},
     "output_type": "execute_result"
    }
   ],
   "source": [
    "clf = GridSearchCV(estimator=model, param_grid=grid, n_jobs=-1, cv=None)\n",
    "# Train and score\n",
    "clf.fit(X_train, y_train)"
   ]
  },
  {
   "cell_type": "code",
   "execution_count": 5,
   "id": "4328c9c8-d574-43c9-9391-fc1b7a0c777a",
   "metadata": {
    "execution": {
     "iopub.execute_input": "2023-12-15T17:27:10.705927Z",
     "iopub.status.busy": "2023-12-15T17:27:10.705927Z",
     "iopub.status.idle": "2023-12-15T17:27:10.794009Z",
     "shell.execute_reply": "2023-12-15T17:27:10.794009Z"
    },
    "papermill": {
     "duration": 0.094076,
     "end_time": "2023-12-15T17:27:10.796012",
     "exception": false,
     "start_time": "2023-12-15T17:27:10.701936",
     "status": "completed"
    },
    "tags": []
   },
   "outputs": [
    {
     "data": {
      "text/plain": [
       "0.7573317998849913"
      ]
     },
     "execution_count": 5,
     "metadata": {},
     "output_type": "execute_result"
    }
   ],
   "source": [
    "score = clf.score(X_valid, y_valid)\n",
    "score"
   ]
  },
  {
   "cell_type": "code",
   "execution_count": 6,
   "id": "a5d0e4d0-8d40-4003-b922-433edd2e8ff4",
   "metadata": {
    "execution": {
     "iopub.execute_input": "2023-12-15T17:27:10.803012Z",
     "iopub.status.busy": "2023-12-15T17:27:10.803012Z",
     "iopub.status.idle": "2023-12-15T17:27:10.813812Z",
     "shell.execute_reply": "2023-12-15T17:27:10.812819Z"
    },
    "papermill": {
     "duration": 0.015802,
     "end_time": "2023-12-15T17:27:10.814813",
     "exception": false,
     "start_time": "2023-12-15T17:27:10.799011",
     "status": "completed"
    },
    "tags": []
   },
   "outputs": [
    {
     "data": {
      "text/plain": [
       "['data/RandomForestClassifier.joblib']"
      ]
     },
     "execution_count": 6,
     "metadata": {},
     "output_type": "execute_result"
    }
   ],
   "source": [
    "joblib.dump(RandomForestClassifier(random_state=0, n_jobs=-1, **clf.best_params_), 'data/RandomForestClassifier.joblib')"
   ]
  },
  {
   "cell_type": "code",
   "execution_count": 7,
   "id": "0a9b8630-edc9-4967-babd-f318058ee8f0",
   "metadata": {
    "execution": {
     "iopub.execute_input": "2023-12-15T17:27:10.823815Z",
     "iopub.status.busy": "2023-12-15T17:27:10.823815Z",
     "iopub.status.idle": "2023-12-15T17:27:10.828495Z",
     "shell.execute_reply": "2023-12-15T17:27:10.828495Z"
    },
    "papermill": {
     "duration": 0.010682,
     "end_time": "2023-12-15T17:27:10.830497",
     "exception": false,
     "start_time": "2023-12-15T17:27:10.819815",
     "status": "completed"
    },
    "tags": []
   },
   "outputs": [],
   "source": [
    "with open('data/scores.txt', 'a') as file:\n",
    "    file.write(f'RandomForestClassifier: {score}\\n')"
   ]
  }
 ],
 "metadata": {
  "kernelspec": {
   "display_name": "Python 3 (ipykernel)",
   "language": "python",
   "name": "python3"
  },
  "language_info": {
   "codemirror_mode": {
    "name": "ipython",
    "version": 3
   },
   "file_extension": ".py",
   "mimetype": "text/x-python",
   "name": "python",
   "nbconvert_exporter": "python",
   "pygments_lexer": "ipython3",
   "version": "3.11.3"
  },
  "papermill": {
   "default_parameters": {},
   "duration": 104.258553,
   "end_time": "2023-12-15T17:27:11.422842",
   "environment_variables": {},
   "exception": null,
   "input_path": "C:\\Users\\draco\\JupyterLabProjects\\Elyra_HW_DS\\model2.ipynb",
   "output_path": "C:\\Users\\draco\\JupyterLabProjects\\Elyra_HW_DS\\model2.ipynb",
   "parameters": {},
   "start_time": "2023-12-15T17:25:27.164289",
   "version": "2.5.0"
  }
 },
 "nbformat": 4,
 "nbformat_minor": 5
}