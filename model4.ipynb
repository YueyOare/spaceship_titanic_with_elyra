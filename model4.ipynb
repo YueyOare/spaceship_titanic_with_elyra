{
 "cells": [
  {
   "cell_type": "code",
   "execution_count": 1,
   "id": "216eb689-50cd-4654-b7e0-b4b0dbfdcd67",
   "metadata": {
    "execution": {
     "iopub.execute_input": "2023-12-15T17:27:39.019620Z",
     "iopub.status.busy": "2023-12-15T17:27:39.018611Z",
     "iopub.status.idle": "2023-12-15T17:27:40.373819Z",
     "shell.execute_reply": "2023-12-15T17:27:40.372813Z"
    },
    "papermill": {
     "duration": 1.373204,
     "end_time": "2023-12-15T17:27:40.386808",
     "exception": false,
     "start_time": "2023-12-15T17:27:39.013604",
     "status": "completed"
    },
    "tags": []
   },
   "outputs": [],
   "source": [
    "from sklearn.naive_bayes import GaussianNB\n",
    "from sklearn.model_selection import GridSearchCV\n",
    "import pandas as pd\n",
    "import joblib"
   ]
  },
  {
   "cell_type": "code",
   "execution_count": 2,
   "id": "3d628e8c-9499-4de6-b88b-ce0a07d6f3c0",
   "metadata": {
    "execution": {
     "iopub.execute_input": "2023-12-15T17:27:40.395815Z",
     "iopub.status.busy": "2023-12-15T17:27:40.395815Z",
     "iopub.status.idle": "2023-12-15T17:27:40.425808Z",
     "shell.execute_reply": "2023-12-15T17:27:40.424842Z"
    },
    "papermill": {
     "duration": 0.040733,
     "end_time": "2023-12-15T17:27:40.430541",
     "exception": false,
     "start_time": "2023-12-15T17:27:40.389808",
     "status": "completed"
    },
    "tags": []
   },
   "outputs": [],
   "source": [
    "X_train = pd.read_csv('data/X_train_preprocessed.csv')\n",
    "y_train = pd.read_csv('data/y_train_preprocessed.csv').values\n",
    "X_valid = pd.read_csv('data/X_valid_preprocessed.csv')\n",
    "y_valid = pd.read_csv('data/y_valid_preprocessed.csv').values"
   ]
  },
  {
   "cell_type": "code",
   "execution_count": 3,
   "id": "b0cb96d8-61ae-4764-b5d8-f178e69a0ae6",
   "metadata": {
    "execution": {
     "iopub.execute_input": "2023-12-15T17:27:40.444540Z",
     "iopub.status.busy": "2023-12-15T17:27:40.442539Z",
     "iopub.status.idle": "2023-12-15T17:27:40.448067Z",
     "shell.execute_reply": "2023-12-15T17:27:40.448067Z"
    },
    "papermill": {
     "duration": 0.013526,
     "end_time": "2023-12-15T17:27:40.450066",
     "exception": false,
     "start_time": "2023-12-15T17:27:40.436540",
     "status": "completed"
    },
    "tags": []
   },
   "outputs": [],
   "source": [
    "model = GaussianNB()\n",
    "\n",
    "# Grids for grid search\n",
    "grid = {'var_smoothing': [1e-10, 1e-9, 1e-8, 1e-7]}"
   ]
  },
  {
   "cell_type": "code",
   "execution_count": 4,
   "id": "6165f1ad-c9f1-47eb-9733-d8f9839a8f03",
   "metadata": {
    "execution": {
     "iopub.execute_input": "2023-12-15T17:27:40.457067Z",
     "iopub.status.busy": "2023-12-15T17:27:40.457067Z",
     "iopub.status.idle": "2023-12-15T17:27:43.412287Z",
     "shell.execute_reply": "2023-12-15T17:27:43.411291Z"
    },
    "papermill": {
     "duration": 2.997095,
     "end_time": "2023-12-15T17:27:43.450161",
     "exception": false,
     "start_time": "2023-12-15T17:27:40.453066",
     "status": "completed"
    },
    "tags": []
   },
   "outputs": [
    {
     "name": "stderr",
     "output_type": "stream",
     "text": [
      "C:\\Users\\draco\\AppData\\Local\\Programs\\Python\\Python311\\Lib\\site-packages\\sklearn\\utils\\validation.py:1184: DataConversionWarning: A column-vector y was passed when a 1d array was expected. Please change the shape of y to (n_samples, ), for example using ravel().\n",
      "  y = column_or_1d(y, warn=True)\n"
     ]
    },
    {
     "data": {
      "text/html": [
       "<style>#sk-container-id-1 {color: black;}#sk-container-id-1 pre{padding: 0;}#sk-container-id-1 div.sk-toggleable {background-color: white;}#sk-container-id-1 label.sk-toggleable__label {cursor: pointer;display: block;width: 100%;margin-bottom: 0;padding: 0.3em;box-sizing: border-box;text-align: center;}#sk-container-id-1 label.sk-toggleable__label-arrow:before {content: \"▸\";float: left;margin-right: 0.25em;color: #696969;}#sk-container-id-1 label.sk-toggleable__label-arrow:hover:before {color: black;}#sk-container-id-1 div.sk-estimator:hover label.sk-toggleable__label-arrow:before {color: black;}#sk-container-id-1 div.sk-toggleable__content {max-height: 0;max-width: 0;overflow: hidden;text-align: left;background-color: #f0f8ff;}#sk-container-id-1 div.sk-toggleable__content pre {margin: 0.2em;color: black;border-radius: 0.25em;background-color: #f0f8ff;}#sk-container-id-1 input.sk-toggleable__control:checked~div.sk-toggleable__content {max-height: 200px;max-width: 100%;overflow: auto;}#sk-container-id-1 input.sk-toggleable__control:checked~label.sk-toggleable__label-arrow:before {content: \"▾\";}#sk-container-id-1 div.sk-estimator input.sk-toggleable__control:checked~label.sk-toggleable__label {background-color: #d4ebff;}#sk-container-id-1 div.sk-label input.sk-toggleable__control:checked~label.sk-toggleable__label {background-color: #d4ebff;}#sk-container-id-1 input.sk-hidden--visually {border: 0;clip: rect(1px 1px 1px 1px);clip: rect(1px, 1px, 1px, 1px);height: 1px;margin: -1px;overflow: hidden;padding: 0;position: absolute;width: 1px;}#sk-container-id-1 div.sk-estimator {font-family: monospace;background-color: #f0f8ff;border: 1px dotted black;border-radius: 0.25em;box-sizing: border-box;margin-bottom: 0.5em;}#sk-container-id-1 div.sk-estimator:hover {background-color: #d4ebff;}#sk-container-id-1 div.sk-parallel-item::after {content: \"\";width: 100%;border-bottom: 1px solid gray;flex-grow: 1;}#sk-container-id-1 div.sk-label:hover label.sk-toggleable__label {background-color: #d4ebff;}#sk-container-id-1 div.sk-serial::before {content: \"\";position: absolute;border-left: 1px solid gray;box-sizing: border-box;top: 0;bottom: 0;left: 50%;z-index: 0;}#sk-container-id-1 div.sk-serial {display: flex;flex-direction: column;align-items: center;background-color: white;padding-right: 0.2em;padding-left: 0.2em;position: relative;}#sk-container-id-1 div.sk-item {position: relative;z-index: 1;}#sk-container-id-1 div.sk-parallel {display: flex;align-items: stretch;justify-content: center;background-color: white;position: relative;}#sk-container-id-1 div.sk-item::before, #sk-container-id-1 div.sk-parallel-item::before {content: \"\";position: absolute;border-left: 1px solid gray;box-sizing: border-box;top: 0;bottom: 0;left: 50%;z-index: -1;}#sk-container-id-1 div.sk-parallel-item {display: flex;flex-direction: column;z-index: 1;position: relative;background-color: white;}#sk-container-id-1 div.sk-parallel-item:first-child::after {align-self: flex-end;width: 50%;}#sk-container-id-1 div.sk-parallel-item:last-child::after {align-self: flex-start;width: 50%;}#sk-container-id-1 div.sk-parallel-item:only-child::after {width: 0;}#sk-container-id-1 div.sk-dashed-wrapped {border: 1px dashed gray;margin: 0 0.4em 0.5em 0.4em;box-sizing: border-box;padding-bottom: 0.4em;background-color: white;}#sk-container-id-1 div.sk-label label {font-family: monospace;font-weight: bold;display: inline-block;line-height: 1.2em;}#sk-container-id-1 div.sk-label-container {text-align: center;}#sk-container-id-1 div.sk-container {/* jupyter's `normalize.less` sets `[hidden] { display: none; }` but bootstrap.min.css set `[hidden] { display: none !important; }` so we also need the `!important` here to be able to override the default hidden behavior on the sphinx rendered scikit-learn.org. See: https://github.com/scikit-learn/scikit-learn/issues/21755 */display: inline-block !important;position: relative;}#sk-container-id-1 div.sk-text-repr-fallback {display: none;}</style><div id=\"sk-container-id-1\" class=\"sk-top-container\"><div class=\"sk-text-repr-fallback\"><pre>GridSearchCV(estimator=GaussianNB(), n_jobs=-1,\n",
       "             param_grid={&#x27;var_smoothing&#x27;: [1e-10, 1e-09, 1e-08, 1e-07]})</pre><b>In a Jupyter environment, please rerun this cell to show the HTML representation or trust the notebook. <br />On GitHub, the HTML representation is unable to render, please try loading this page with nbviewer.org.</b></div><div class=\"sk-container\" hidden><div class=\"sk-item sk-dashed-wrapped\"><div class=\"sk-label-container\"><div class=\"sk-label sk-toggleable\"><input class=\"sk-toggleable__control sk-hidden--visually\" id=\"sk-estimator-id-1\" type=\"checkbox\" ><label for=\"sk-estimator-id-1\" class=\"sk-toggleable__label sk-toggleable__label-arrow\">GridSearchCV</label><div class=\"sk-toggleable__content\"><pre>GridSearchCV(estimator=GaussianNB(), n_jobs=-1,\n",
       "             param_grid={&#x27;var_smoothing&#x27;: [1e-10, 1e-09, 1e-08, 1e-07]})</pre></div></div></div><div class=\"sk-parallel\"><div class=\"sk-parallel-item\"><div class=\"sk-item\"><div class=\"sk-label-container\"><div class=\"sk-label sk-toggleable\"><input class=\"sk-toggleable__control sk-hidden--visually\" id=\"sk-estimator-id-2\" type=\"checkbox\" ><label for=\"sk-estimator-id-2\" class=\"sk-toggleable__label sk-toggleable__label-arrow\">estimator: GaussianNB</label><div class=\"sk-toggleable__content\"><pre>GaussianNB()</pre></div></div></div><div class=\"sk-serial\"><div class=\"sk-item\"><div class=\"sk-estimator sk-toggleable\"><input class=\"sk-toggleable__control sk-hidden--visually\" id=\"sk-estimator-id-3\" type=\"checkbox\" ><label for=\"sk-estimator-id-3\" class=\"sk-toggleable__label sk-toggleable__label-arrow\">GaussianNB</label><div class=\"sk-toggleable__content\"><pre>GaussianNB()</pre></div></div></div></div></div></div></div></div></div></div>"
      ],
      "text/plain": [
       "GridSearchCV(estimator=GaussianNB(), n_jobs=-1,\n",
       "             param_grid={'var_smoothing': [1e-10, 1e-09, 1e-08, 1e-07]})"
      ]
     },
     "execution_count": 4,
     "metadata": {},
     "output_type": "execute_result"
    }
   ],
   "source": [
    "clf = GridSearchCV(estimator=model, param_grid=grid, n_jobs=-1, cv=None)\n",
    "# Train and score\n",
    "clf.fit(X_train, y_train)"
   ]
  },
  {
   "cell_type": "code",
   "execution_count": 5,
   "id": "c3f15483-27ff-46b2-9d93-d5a619267545",
   "metadata": {
    "execution": {
     "iopub.execute_input": "2023-12-15T17:27:43.508836Z",
     "iopub.status.busy": "2023-12-15T17:27:43.507835Z",
     "iopub.status.idle": "2023-12-15T17:27:43.519571Z",
     "shell.execute_reply": "2023-12-15T17:27:43.518571Z"
    },
    "papermill": {
     "duration": 0.017773,
     "end_time": "2023-12-15T17:27:43.520575",
     "exception": false,
     "start_time": "2023-12-15T17:27:43.502802",
     "status": "completed"
    },
    "tags": []
   },
   "outputs": [
    {
     "data": {
      "text/plain": [
       "0.7291546866014951"
      ]
     },
     "execution_count": 5,
     "metadata": {},
     "output_type": "execute_result"
    }
   ],
   "source": [
    "score = clf.score(X_valid, y_valid)\n",
    "score"
   ]
  },
  {
   "cell_type": "code",
   "execution_count": 6,
   "id": "7870bf58-6563-4f7c-864e-3ba99a6d057e",
   "metadata": {
    "execution": {
     "iopub.execute_input": "2023-12-15T17:27:43.529571Z",
     "iopub.status.busy": "2023-12-15T17:27:43.528572Z",
     "iopub.status.idle": "2023-12-15T17:27:43.536830Z",
     "shell.execute_reply": "2023-12-15T17:27:43.535830Z"
    },
    "papermill": {
     "duration": 0.015251,
     "end_time": "2023-12-15T17:27:43.538859",
     "exception": false,
     "start_time": "2023-12-15T17:27:43.523608",
     "status": "completed"
    },
    "tags": []
   },
   "outputs": [
    {
     "data": {
      "text/plain": [
       "['data/GaussianNB.joblib']"
      ]
     },
     "execution_count": 6,
     "metadata": {},
     "output_type": "execute_result"
    }
   ],
   "source": [
    "joblib.dump(GaussianNB(**clf.best_params_), 'data/GaussianNB.joblib')"
   ]
  },
  {
   "cell_type": "code",
   "execution_count": 7,
   "id": "b65f3180-73c0-4d58-b77c-ffa9fc8be959",
   "metadata": {
    "execution": {
     "iopub.execute_input": "2023-12-15T17:27:43.546829Z",
     "iopub.status.busy": "2023-12-15T17:27:43.545860Z",
     "iopub.status.idle": "2023-12-15T17:27:43.552383Z",
     "shell.execute_reply": "2023-12-15T17:27:43.551386Z"
    },
    "papermill": {
     "duration": 0.012527,
     "end_time": "2023-12-15T17:27:43.554386",
     "exception": false,
     "start_time": "2023-12-15T17:27:43.541859",
     "status": "completed"
    },
    "tags": []
   },
   "outputs": [],
   "source": [
    "with open('data/scores.txt', 'a') as file:\n",
    "    file.write(f'GaussianNB: {score}\\n')"
   ]
  }
 ],
 "metadata": {
  "kernelspec": {
   "display_name": "Python 3 (ipykernel)",
   "language": "python",
   "name": "python3"
  },
  "language_info": {
   "codemirror_mode": {
    "name": "ipython",
    "version": 3
   },
   "file_extension": ".py",
   "mimetype": "text/x-python",
   "name": "python",
   "nbconvert_exporter": "python",
   "pygments_lexer": "ipython3",
   "version": "3.11.3"
  },
  "papermill": {
   "default_parameters": {},
   "duration": 6.876304,
   "end_time": "2023-12-15T17:27:44.021471",
   "environment_variables": {},
   "exception": null,
   "input_path": "C:\\Users\\draco\\JupyterLabProjects\\Elyra_HW_DS\\model4.ipynb",
   "output_path": "C:\\Users\\draco\\JupyterLabProjects\\Elyra_HW_DS\\model4.ipynb",
   "parameters": {},
   "start_time": "2023-12-15T17:27:37.145167",
   "version": "2.5.0"
  }
 },
 "nbformat": 4,
 "nbformat_minor": 5
}